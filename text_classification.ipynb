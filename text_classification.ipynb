{
 "cells": [
  {
   "cell_type": "code",
   "execution_count": 1,
   "id": "a543ea88",
   "metadata": {},
   "outputs": [
    {
     "name": "stdout",
     "output_type": "stream",
     "text": [
      "Requirement already satisfied: pandas in c:\\users\\dhanushdevadiga\\downloads\\news-classifier-main\\news-classifier-main\\myenv\\lib\\site-packages (2.2.3)\n",
      "Requirement already satisfied: numpy in c:\\users\\dhanushdevadiga\\downloads\\news-classifier-main\\news-classifier-main\\myenv\\lib\\site-packages (1.26.4)\n",
      "Requirement already satisfied: matplotlib in c:\\users\\dhanushdevadiga\\downloads\\news-classifier-main\\news-classifier-main\\myenv\\lib\\site-packages (3.9.2)\n",
      "Requirement already satisfied: seaborn in c:\\users\\dhanushdevadiga\\downloads\\news-classifier-main\\news-classifier-main\\myenv\\lib\\site-packages (0.13.2)\n",
      "Requirement already satisfied: wordcloud in c:\\users\\dhanushdevadiga\\downloads\\news-classifier-main\\news-classifier-main\\myenv\\lib\\site-packages (1.9.3)\n",
      "Requirement already satisfied: nltk in c:\\users\\dhanushdevadiga\\downloads\\news-classifier-main\\news-classifier-main\\myenv\\lib\\site-packages (3.9.1)\n",
      "Requirement already satisfied: keras in c:\\users\\dhanushdevadiga\\downloads\\news-classifier-main\\news-classifier-main\\myenv\\lib\\site-packages (3.6.0)\n",
      "Requirement already satisfied: tensorflow in c:\\users\\dhanushdevadiga\\downloads\\news-classifier-main\\news-classifier-main\\myenv\\lib\\site-packages (2.17.0)\n",
      "Requirement already satisfied: python-dateutil>=2.8.2 in c:\\users\\dhanushdevadiga\\downloads\\news-classifier-main\\news-classifier-main\\myenv\\lib\\site-packages (from pandas) (2.9.0.post0)\n",
      "Requirement already satisfied: pytz>=2020.1 in c:\\users\\dhanushdevadiga\\downloads\\news-classifier-main\\news-classifier-main\\myenv\\lib\\site-packages (from pandas) (2024.2)\n",
      "Requirement already satisfied: tzdata>=2022.7 in c:\\users\\dhanushdevadiga\\downloads\\news-classifier-main\\news-classifier-main\\myenv\\lib\\site-packages (from pandas) (2024.2)\n",
      "Requirement already satisfied: contourpy>=1.0.1 in c:\\users\\dhanushdevadiga\\downloads\\news-classifier-main\\news-classifier-main\\myenv\\lib\\site-packages (from matplotlib) (1.3.0)\n",
      "Requirement already satisfied: cycler>=0.10 in c:\\users\\dhanushdevadiga\\downloads\\news-classifier-main\\news-classifier-main\\myenv\\lib\\site-packages (from matplotlib) (0.12.1)\n",
      "Requirement already satisfied: fonttools>=4.22.0 in c:\\users\\dhanushdevadiga\\downloads\\news-classifier-main\\news-classifier-main\\myenv\\lib\\site-packages (from matplotlib) (4.54.1)\n",
      "Requirement already satisfied: kiwisolver>=1.3.1 in c:\\users\\dhanushdevadiga\\downloads\\news-classifier-main\\news-classifier-main\\myenv\\lib\\site-packages (from matplotlib) (1.4.7)\n",
      "Requirement already satisfied: packaging>=20.0 in c:\\users\\dhanushdevadiga\\downloads\\news-classifier-main\\news-classifier-main\\myenv\\lib\\site-packages (from matplotlib) (24.1)\n",
      "Requirement already satisfied: pillow>=8 in c:\\users\\dhanushdevadiga\\downloads\\news-classifier-main\\news-classifier-main\\myenv\\lib\\site-packages (from matplotlib) (10.4.0)\n",
      "Requirement already satisfied: pyparsing>=2.3.1 in c:\\users\\dhanushdevadiga\\downloads\\news-classifier-main\\news-classifier-main\\myenv\\lib\\site-packages (from matplotlib) (3.1.4)\n",
      "Requirement already satisfied: click in c:\\users\\dhanushdevadiga\\downloads\\news-classifier-main\\news-classifier-main\\myenv\\lib\\site-packages (from nltk) (8.1.7)\n",
      "Requirement already satisfied: joblib in c:\\users\\dhanushdevadiga\\downloads\\news-classifier-main\\news-classifier-main\\myenv\\lib\\site-packages (from nltk) (1.4.2)\n",
      "Requirement already satisfied: regex>=2021.8.3 in c:\\users\\dhanushdevadiga\\downloads\\news-classifier-main\\news-classifier-main\\myenv\\lib\\site-packages (from nltk) (2024.9.11)\n",
      "Requirement already satisfied: tqdm in c:\\users\\dhanushdevadiga\\downloads\\news-classifier-main\\news-classifier-main\\myenv\\lib\\site-packages (from nltk) (4.66.5)\n",
      "Requirement already satisfied: absl-py in c:\\users\\dhanushdevadiga\\downloads\\news-classifier-main\\news-classifier-main\\myenv\\lib\\site-packages (from keras) (2.1.0)\n",
      "Requirement already satisfied: rich in c:\\users\\dhanushdevadiga\\downloads\\news-classifier-main\\news-classifier-main\\myenv\\lib\\site-packages (from keras) (13.9.2)\n",
      "Requirement already satisfied: namex in c:\\users\\dhanushdevadiga\\downloads\\news-classifier-main\\news-classifier-main\\myenv\\lib\\site-packages (from keras) (0.0.8)\n",
      "Requirement already satisfied: h5py in c:\\users\\dhanushdevadiga\\downloads\\news-classifier-main\\news-classifier-main\\myenv\\lib\\site-packages (from keras) (3.12.1)\n",
      "Requirement already satisfied: optree in c:\\users\\dhanushdevadiga\\downloads\\news-classifier-main\\news-classifier-main\\myenv\\lib\\site-packages (from keras) (0.13.0)\n",
      "Requirement already satisfied: ml-dtypes in c:\\users\\dhanushdevadiga\\downloads\\news-classifier-main\\news-classifier-main\\myenv\\lib\\site-packages (from keras) (0.4.1)\n",
      "Requirement already satisfied: tensorflow-intel==2.17.0 in c:\\users\\dhanushdevadiga\\downloads\\news-classifier-main\\news-classifier-main\\myenv\\lib\\site-packages (from tensorflow) (2.17.0)\n",
      "Requirement already satisfied: astunparse>=1.6.0 in c:\\users\\dhanushdevadiga\\downloads\\news-classifier-main\\news-classifier-main\\myenv\\lib\\site-packages (from tensorflow-intel==2.17.0->tensorflow) (1.6.3)\n",
      "Requirement already satisfied: flatbuffers>=24.3.25 in c:\\users\\dhanushdevadiga\\downloads\\news-classifier-main\\news-classifier-main\\myenv\\lib\\site-packages (from tensorflow-intel==2.17.0->tensorflow) (24.3.25)\n",
      "Requirement already satisfied: gast!=0.5.0,!=0.5.1,!=0.5.2,>=0.2.1 in c:\\users\\dhanushdevadiga\\downloads\\news-classifier-main\\news-classifier-main\\myenv\\lib\\site-packages (from tensorflow-intel==2.17.0->tensorflow) (0.6.0)\n",
      "Requirement already satisfied: google-pasta>=0.1.1 in c:\\users\\dhanushdevadiga\\downloads\\news-classifier-main\\news-classifier-main\\myenv\\lib\\site-packages (from tensorflow-intel==2.17.0->tensorflow) (0.2.0)\n",
      "Requirement already satisfied: libclang>=13.0.0 in c:\\users\\dhanushdevadiga\\downloads\\news-classifier-main\\news-classifier-main\\myenv\\lib\\site-packages (from tensorflow-intel==2.17.0->tensorflow) (18.1.1)\n",
      "Requirement already satisfied: opt-einsum>=2.3.2 in c:\\users\\dhanushdevadiga\\downloads\\news-classifier-main\\news-classifier-main\\myenv\\lib\\site-packages (from tensorflow-intel==2.17.0->tensorflow) (3.4.0)\n",
      "Requirement already satisfied: protobuf!=4.21.0,!=4.21.1,!=4.21.2,!=4.21.3,!=4.21.4,!=4.21.5,<5.0.0dev,>=3.20.3 in c:\\users\\dhanushdevadiga\\downloads\\news-classifier-main\\news-classifier-main\\myenv\\lib\\site-packages (from tensorflow-intel==2.17.0->tensorflow) (4.25.5)\n",
      "Requirement already satisfied: requests<3,>=2.21.0 in c:\\users\\dhanushdevadiga\\downloads\\news-classifier-main\\news-classifier-main\\myenv\\lib\\site-packages (from tensorflow-intel==2.17.0->tensorflow) (2.32.3)\n",
      "Requirement already satisfied: setuptools in c:\\users\\dhanushdevadiga\\downloads\\news-classifier-main\\news-classifier-main\\myenv\\lib\\site-packages (from tensorflow-intel==2.17.0->tensorflow) (75.1.0)\n",
      "Requirement already satisfied: six>=1.12.0 in c:\\users\\dhanushdevadiga\\downloads\\news-classifier-main\\news-classifier-main\\myenv\\lib\\site-packages (from tensorflow-intel==2.17.0->tensorflow) (1.16.0)\n",
      "Requirement already satisfied: termcolor>=1.1.0 in c:\\users\\dhanushdevadiga\\downloads\\news-classifier-main\\news-classifier-main\\myenv\\lib\\site-packages (from tensorflow-intel==2.17.0->tensorflow) (2.5.0)\n",
      "Requirement already satisfied: typing-extensions>=3.6.6 in c:\\users\\dhanushdevadiga\\downloads\\news-classifier-main\\news-classifier-main\\myenv\\lib\\site-packages (from tensorflow-intel==2.17.0->tensorflow) (4.12.2)\n",
      "Requirement already satisfied: wrapt>=1.11.0 in c:\\users\\dhanushdevadiga\\downloads\\news-classifier-main\\news-classifier-main\\myenv\\lib\\site-packages (from tensorflow-intel==2.17.0->tensorflow) (1.16.0)\n",
      "Requirement already satisfied: grpcio<2.0,>=1.24.3 in c:\\users\\dhanushdevadiga\\downloads\\news-classifier-main\\news-classifier-main\\myenv\\lib\\site-packages (from tensorflow-intel==2.17.0->tensorflow) (1.66.2)\n",
      "Requirement already satisfied: tensorboard<2.18,>=2.17 in c:\\users\\dhanushdevadiga\\downloads\\news-classifier-main\\news-classifier-main\\myenv\\lib\\site-packages (from tensorflow-intel==2.17.0->tensorflow) (2.17.1)\n",
      "Requirement already satisfied: colorama in c:\\users\\dhanushdevadiga\\downloads\\news-classifier-main\\news-classifier-main\\myenv\\lib\\site-packages (from click->nltk) (0.4.6)\n",
      "Requirement already satisfied: markdown-it-py>=2.2.0 in c:\\users\\dhanushdevadiga\\downloads\\news-classifier-main\\news-classifier-main\\myenv\\lib\\site-packages (from rich->keras) (3.0.0)\n",
      "Requirement already satisfied: pygments<3.0.0,>=2.13.0 in c:\\users\\dhanushdevadiga\\downloads\\news-classifier-main\\news-classifier-main\\myenv\\lib\\site-packages (from rich->keras) (2.18.0)\n",
      "Requirement already satisfied: wheel<1.0,>=0.23.0 in c:\\users\\dhanushdevadiga\\downloads\\news-classifier-main\\news-classifier-main\\myenv\\lib\\site-packages (from astunparse>=1.6.0->tensorflow-intel==2.17.0->tensorflow) (0.44.0)\n",
      "Requirement already satisfied: mdurl~=0.1 in c:\\users\\dhanushdevadiga\\downloads\\news-classifier-main\\news-classifier-main\\myenv\\lib\\site-packages (from markdown-it-py>=2.2.0->rich->keras) (0.1.2)\n",
      "Requirement already satisfied: charset-normalizer<4,>=2 in c:\\users\\dhanushdevadiga\\downloads\\news-classifier-main\\news-classifier-main\\myenv\\lib\\site-packages (from requests<3,>=2.21.0->tensorflow-intel==2.17.0->tensorflow) (3.4.0)\n",
      "Requirement already satisfied: idna<4,>=2.5 in c:\\users\\dhanushdevadiga\\downloads\\news-classifier-main\\news-classifier-main\\myenv\\lib\\site-packages (from requests<3,>=2.21.0->tensorflow-intel==2.17.0->tensorflow) (3.10)\n",
      "Requirement already satisfied: urllib3<3,>=1.21.1 in c:\\users\\dhanushdevadiga\\downloads\\news-classifier-main\\news-classifier-main\\myenv\\lib\\site-packages (from requests<3,>=2.21.0->tensorflow-intel==2.17.0->tensorflow) (2.2.3)\n",
      "Requirement already satisfied: certifi>=2017.4.17 in c:\\users\\dhanushdevadiga\\downloads\\news-classifier-main\\news-classifier-main\\myenv\\lib\\site-packages (from requests<3,>=2.21.0->tensorflow-intel==2.17.0->tensorflow) (2024.8.30)\n",
      "Requirement already satisfied: markdown>=2.6.8 in c:\\users\\dhanushdevadiga\\downloads\\news-classifier-main\\news-classifier-main\\myenv\\lib\\site-packages (from tensorboard<2.18,>=2.17->tensorflow-intel==2.17.0->tensorflow) (3.7)\n",
      "Requirement already satisfied: tensorboard-data-server<0.8.0,>=0.7.0 in c:\\users\\dhanushdevadiga\\downloads\\news-classifier-main\\news-classifier-main\\myenv\\lib\\site-packages (from tensorboard<2.18,>=2.17->tensorflow-intel==2.17.0->tensorflow) (0.7.2)\n",
      "Requirement already satisfied: werkzeug>=1.0.1 in c:\\users\\dhanushdevadiga\\downloads\\news-classifier-main\\news-classifier-main\\myenv\\lib\\site-packages (from tensorboard<2.18,>=2.17->tensorflow-intel==2.17.0->tensorflow) (3.0.4)\n",
      "Requirement already satisfied: MarkupSafe>=2.1.1 in c:\\users\\dhanushdevadiga\\downloads\\news-classifier-main\\news-classifier-main\\myenv\\lib\\site-packages (from werkzeug>=1.0.1->tensorboard<2.18,>=2.17->tensorflow-intel==2.17.0->tensorflow) (3.0.1)\n"
     ]
    },
    {
     "name": "stderr",
     "output_type": "stream",
     "text": [
      "\n",
      "[notice] A new release of pip is available: 24.0 -> 24.2\n",
      "[notice] To update, run: python.exe -m pip install --upgrade pip\n"
     ]
    }
   ],
   "source": [
    "!pip install pandas numpy matplotlib seaborn wordcloud nltk keras tensorflow"
   ]
  },
  {
   "cell_type": "code",
   "execution_count": 2,
   "id": "fdcf2f30",
   "metadata": {},
   "outputs": [
    {
     "name": "stdout",
     "output_type": "stream",
     "text": [
      "Requirement already satisfied: scikit-learn in c:\\users\\dhanushdevadiga\\downloads\\news-classifier-main\\news-classifier-main\\myenv\\lib\\site-packages (1.5.2)\n",
      "Requirement already satisfied: numpy>=1.19.5 in c:\\users\\dhanushdevadiga\\downloads\\news-classifier-main\\news-classifier-main\\myenv\\lib\\site-packages (from scikit-learn) (1.26.4)\n",
      "Requirement already satisfied: scipy>=1.6.0 in c:\\users\\dhanushdevadiga\\downloads\\news-classifier-main\\news-classifier-main\\myenv\\lib\\site-packages (from scikit-learn) (1.14.1)\n",
      "Requirement already satisfied: joblib>=1.2.0 in c:\\users\\dhanushdevadiga\\downloads\\news-classifier-main\\news-classifier-main\\myenv\\lib\\site-packages (from scikit-learn) (1.4.2)\n",
      "Requirement already satisfied: threadpoolctl>=3.1.0 in c:\\users\\dhanushdevadiga\\downloads\\news-classifier-main\\news-classifier-main\\myenv\\lib\\site-packages (from scikit-learn) (3.5.0)\n"
     ]
    },
    {
     "name": "stderr",
     "output_type": "stream",
     "text": [
      "\n",
      "[notice] A new release of pip is available: 24.0 -> 24.2\n",
      "[notice] To update, run: python.exe -m pip install --upgrade pip\n"
     ]
    }
   ],
   "source": [
    "!pip install scikit-learn"
   ]
  },
  {
   "cell_type": "code",
   "execution_count": 3,
   "id": "bc37b0bf",
   "metadata": {
    "execution": {
     "iopub.execute_input": "2023-05-26T06:18:16.053205Z",
     "iopub.status.busy": "2023-05-26T06:18:16.052765Z",
     "iopub.status.idle": "2023-05-26T06:18:28.153220Z",
     "shell.execute_reply": "2023-05-26T06:18:28.151630Z"
    },
    "id": "3439f798",
    "papermill": {
     "duration": 12.113082,
     "end_time": "2023-05-26T06:18:28.156476",
     "exception": false,
     "start_time": "2023-05-26T06:18:16.043394",
     "status": "completed"
    },
    "tags": []
   },
   "outputs": [],
   "source": [
    "#import libraries\n",
    "import json\n",
    "import pandas as pd\n",
    "import numpy as np\n",
    "import re\n",
    "import matplotlib.pyplot as plt\n",
    "import seaborn as sns\n",
    "from wordcloud import WordCloud, STOPWORDS\n",
    "from nltk.corpus import stopwords\n",
    "from nltk.stem.wordnet import WordNetLemmatizer\n",
    "from tensorflow.keras.preprocessing.text import Tokenizer\n",
    "from sklearn.preprocessing import LabelEncoder\n",
    "from sklearn.model_selection import train_test_split\n",
    "from tensorflow.keras.preprocessing.sequence import pad_sequences\n",
    "from keras.layers import Conv1D, SimpleRNN, Bidirectional,MaxPooling1D, GlobalMaxPooling1D, GlobalMaxPool1D, LSTM, GRU\n",
    "from keras.models import Sequential\n",
    "from keras.layers import Embedding, Flatten, Dense, Dropout\n",
    "from keras.layers import Dense, LSTM, Embedding\n",
    "from tensorflow import keras\n",
    "from tensorflow.keras.models import Model\n",
    "from keras.callbacks import ModelCheckpoint\n",
    "from tensorflow.keras.utils import to_categorical\n",
    "\n",
    "# from sklearn.utils.class_weight import compute_class_weight"
   ]
  },
  {
   "cell_type": "code",
   "execution_count": 5,
   "id": "d4e7a040",
   "metadata": {
    "execution": {
     "iopub.execute_input": "2023-05-26T06:18:28.175689Z",
     "iopub.status.busy": "2023-05-26T06:18:28.174686Z",
     "iopub.status.idle": "2023-05-26T06:18:33.137844Z",
     "shell.execute_reply": "2023-05-26T06:18:33.136376Z"
    },
    "id": "ad532b49",
    "outputId": "981b3c84-8654-4694-d91c-1ee058633966",
    "papermill": {
     "duration": 4.974982,
     "end_time": "2023-05-26T06:18:33.140733",
     "exception": false,
     "start_time": "2023-05-26T06:18:28.165751",
     "status": "completed"
    },
    "tags": []
   },
   "outputs": [
    {
     "data": {
      "text/html": [
       "<div>\n",
       "<style scoped>\n",
       "    .dataframe tbody tr th:only-of-type {\n",
       "        vertical-align: middle;\n",
       "    }\n",
       "\n",
       "    .dataframe tbody tr th {\n",
       "        vertical-align: top;\n",
       "    }\n",
       "\n",
       "    .dataframe thead th {\n",
       "        text-align: right;\n",
       "    }\n",
       "</style>\n",
       "<table border=\"1\" class=\"dataframe\">\n",
       "  <thead>\n",
       "    <tr style=\"text-align: right;\">\n",
       "      <th></th>\n",
       "      <th>link</th>\n",
       "      <th>headline</th>\n",
       "      <th>category</th>\n",
       "      <th>short_description</th>\n",
       "      <th>authors</th>\n",
       "      <th>date</th>\n",
       "    </tr>\n",
       "  </thead>\n",
       "  <tbody>\n",
       "    <tr>\n",
       "      <th>0</th>\n",
       "      <td>https://www.huffpost.com/entry/covid-boosters-...</td>\n",
       "      <td>Over 4 Million Americans Roll Up Sleeves For O...</td>\n",
       "      <td>U.S. NEWS</td>\n",
       "      <td>Health experts said it is too early to predict...</td>\n",
       "      <td>Carla K. Johnson, AP</td>\n",
       "      <td>2022-09-23</td>\n",
       "    </tr>\n",
       "    <tr>\n",
       "      <th>1</th>\n",
       "      <td>https://www.huffpost.com/entry/american-airlin...</td>\n",
       "      <td>American Airlines Flyer Charged, Banned For Li...</td>\n",
       "      <td>U.S. NEWS</td>\n",
       "      <td>He was subdued by passengers and crew when he ...</td>\n",
       "      <td>Mary Papenfuss</td>\n",
       "      <td>2022-09-23</td>\n",
       "    </tr>\n",
       "    <tr>\n",
       "      <th>2</th>\n",
       "      <td>https://www.huffpost.com/entry/funniest-tweets...</td>\n",
       "      <td>23 Of The Funniest Tweets About Cats And Dogs ...</td>\n",
       "      <td>COMEDY</td>\n",
       "      <td>\"Until you have a dog you don't understand wha...</td>\n",
       "      <td>Elyse Wanshel</td>\n",
       "      <td>2022-09-23</td>\n",
       "    </tr>\n",
       "    <tr>\n",
       "      <th>3</th>\n",
       "      <td>https://www.huffpost.com/entry/funniest-parent...</td>\n",
       "      <td>The Funniest Tweets From Parents This Week (Se...</td>\n",
       "      <td>PARENTING</td>\n",
       "      <td>\"Accidentally put grown-up toothpaste on my to...</td>\n",
       "      <td>Caroline Bologna</td>\n",
       "      <td>2022-09-23</td>\n",
       "    </tr>\n",
       "    <tr>\n",
       "      <th>4</th>\n",
       "      <td>https://www.huffpost.com/entry/amy-cooper-lose...</td>\n",
       "      <td>Woman Who Called Cops On Black Bird-Watcher Lo...</td>\n",
       "      <td>U.S. NEWS</td>\n",
       "      <td>Amy Cooper accused investment firm Franklin Te...</td>\n",
       "      <td>Nina Golgowski</td>\n",
       "      <td>2022-09-22</td>\n",
       "    </tr>\n",
       "  </tbody>\n",
       "</table>\n",
       "</div>"
      ],
      "text/plain": [
       "                                                link  \\\n",
       "0  https://www.huffpost.com/entry/covid-boosters-...   \n",
       "1  https://www.huffpost.com/entry/american-airlin...   \n",
       "2  https://www.huffpost.com/entry/funniest-tweets...   \n",
       "3  https://www.huffpost.com/entry/funniest-parent...   \n",
       "4  https://www.huffpost.com/entry/amy-cooper-lose...   \n",
       "\n",
       "                                            headline   category  \\\n",
       "0  Over 4 Million Americans Roll Up Sleeves For O...  U.S. NEWS   \n",
       "1  American Airlines Flyer Charged, Banned For Li...  U.S. NEWS   \n",
       "2  23 Of The Funniest Tweets About Cats And Dogs ...     COMEDY   \n",
       "3  The Funniest Tweets From Parents This Week (Se...  PARENTING   \n",
       "4  Woman Who Called Cops On Black Bird-Watcher Lo...  U.S. NEWS   \n",
       "\n",
       "                                   short_description               authors  \\\n",
       "0  Health experts said it is too early to predict...  Carla K. Johnson, AP   \n",
       "1  He was subdued by passengers and crew when he ...        Mary Papenfuss   \n",
       "2  \"Until you have a dog you don't understand wha...         Elyse Wanshel   \n",
       "3  \"Accidentally put grown-up toothpaste on my to...      Caroline Bologna   \n",
       "4  Amy Cooper accused investment firm Franklin Te...        Nina Golgowski   \n",
       "\n",
       "         date  \n",
       "0  2022-09-23  \n",
       "1  2022-09-23  \n",
       "2  2022-09-23  \n",
       "3  2022-09-23  \n",
       "4  2022-09-22  "
      ]
     },
     "execution_count": 5,
     "metadata": {},
     "output_type": "execute_result"
    }
   ],
   "source": [
    "# Load the JSON file into a pandas DataFrame\n",
    "df = pd.read_csv('News_Category_Dataset.csv')\n",
    "df.head()"
   ]
  },
  {
   "cell_type": "code",
   "execution_count": 6,
   "id": "2627798e",
   "metadata": {
    "execution": {
     "iopub.execute_input": "2023-05-26T06:18:33.157715Z",
     "iopub.status.busy": "2023-05-26T06:18:33.157269Z",
     "iopub.status.idle": "2023-05-26T06:18:33.178834Z",
     "shell.execute_reply": "2023-05-26T06:18:33.178012Z"
    },
    "id": "e204adbf",
    "outputId": "9ad5e0d9-08e6-4937-a4e2-e0d1b270415f",
    "papermill": {
     "duration": 0.033052,
     "end_time": "2023-05-26T06:18:33.181412",
     "exception": false,
     "start_time": "2023-05-26T06:18:33.148360",
     "status": "completed"
    },
    "tags": []
   },
   "outputs": [
    {
     "name": "stdout",
     "output_type": "stream",
     "text": [
      "209527\n"
     ]
    }
   ],
   "source": [
    "# #dropping unnecessary columns\n",
    "new_df = df.drop(columns=['authors','link','date'])\n",
    "new_df.head()\n",
    "print(len(new_df))"
   ]
  },
  {
   "attachments": {},
   "cell_type": "markdown",
   "id": "01b17817",
   "metadata": {
    "id": "VRzAhrG3M0-n",
    "papermill": {
     "duration": 0.007965,
     "end_time": "2023-05-26T06:18:33.197579",
     "exception": false,
     "start_time": "2023-05-26T06:18:33.189614",
     "status": "completed"
    },
    "tags": []
   },
   "source": [
    "# New Section"
   ]
  },
  {
   "cell_type": "code",
   "execution_count": 7,
   "id": "fe411874",
   "metadata": {
    "execution": {
     "iopub.execute_input": "2023-05-26T06:18:33.215697Z",
     "iopub.status.busy": "2023-05-26T06:18:33.214948Z",
     "iopub.status.idle": "2023-05-26T06:18:33.515667Z",
     "shell.execute_reply": "2023-05-26T06:18:33.514489Z"
    },
    "id": "13aa8dc1",
    "outputId": "2a47ba8d-051e-4d42-d1ba-1cd81c509eec",
    "papermill": {
     "duration": 0.31316,
     "end_time": "2023-05-26T06:18:33.518395",
     "exception": false,
     "start_time": "2023-05-26T06:18:33.205235",
     "status": "completed"
    },
    "tags": []
   },
   "outputs": [
    {
     "data": {
      "text/html": [
       "<div>\n",
       "<style scoped>\n",
       "    .dataframe tbody tr th:only-of-type {\n",
       "        vertical-align: middle;\n",
       "    }\n",
       "\n",
       "    .dataframe tbody tr th {\n",
       "        vertical-align: top;\n",
       "    }\n",
       "\n",
       "    .dataframe thead th {\n",
       "        text-align: right;\n",
       "    }\n",
       "</style>\n",
       "<table border=\"1\" class=\"dataframe\">\n",
       "  <thead>\n",
       "    <tr style=\"text-align: right;\">\n",
       "      <th></th>\n",
       "      <th>category</th>\n",
       "      <th>length_of_news</th>\n",
       "      <th>len_news</th>\n",
       "    </tr>\n",
       "  </thead>\n",
       "  <tbody>\n",
       "    <tr>\n",
       "      <th>0</th>\n",
       "      <td>U.S. NEWS</td>\n",
       "      <td>Over 4 Million Americans Roll Up Sleeves For O...</td>\n",
       "      <td>230</td>\n",
       "    </tr>\n",
       "    <tr>\n",
       "      <th>1</th>\n",
       "      <td>U.S. NEWS</td>\n",
       "      <td>American Airlines Flyer Charged, Banned For Li...</td>\n",
       "      <td>248</td>\n",
       "    </tr>\n",
       "    <tr>\n",
       "      <th>2</th>\n",
       "      <td>COMEDY</td>\n",
       "      <td>23 Of The Funniest Tweets About Cats And Dogs ...</td>\n",
       "      <td>133</td>\n",
       "    </tr>\n",
       "    <tr>\n",
       "      <th>3</th>\n",
       "      <td>PARENTING</td>\n",
       "      <td>The Funniest Tweets From Parents This Week (Se...</td>\n",
       "      <td>215</td>\n",
       "    </tr>\n",
       "    <tr>\n",
       "      <th>4</th>\n",
       "      <td>U.S. NEWS</td>\n",
       "      <td>Woman Who Called Cops On Black Bird-Watcher Lo...</td>\n",
       "      <td>233</td>\n",
       "    </tr>\n",
       "  </tbody>\n",
       "</table>\n",
       "</div>"
      ],
      "text/plain": [
       "    category                                     length_of_news  len_news\n",
       "0  U.S. NEWS  Over 4 Million Americans Roll Up Sleeves For O...       230\n",
       "1  U.S. NEWS  American Airlines Flyer Charged, Banned For Li...       248\n",
       "2     COMEDY  23 Of The Funniest Tweets About Cats And Dogs ...       133\n",
       "3  PARENTING  The Funniest Tweets From Parents This Week (Se...       215\n",
       "4  U.S. NEWS  Woman Who Called Cops On Black Bird-Watcher Lo...       233"
      ]
     },
     "execution_count": 7,
     "metadata": {},
     "output_type": "execute_result"
    }
   ],
   "source": [
    "# create final dataframe of combined headline and short_description\n",
    "final_df = new_df.copy()\n",
    "final_df['length_of_news'] = final_df['headline'] + final_df['short_description']\n",
    "final_df.drop(['headline','short_description'], inplace=True, axis=1)\n",
    "final_df['len_news'] = final_df['length_of_news'].apply(lambda x: len(str(x)))\n",
    "final_df.head()\n"
   ]
  },
  {
   "cell_type": "code",
   "execution_count": 8,
   "id": "a81eda84",
   "metadata": {
    "execution": {
     "iopub.execute_input": "2023-05-26T06:18:33.536033Z",
     "iopub.status.busy": "2023-05-26T06:18:33.535571Z",
     "iopub.status.idle": "2023-05-26T06:18:33.548293Z",
     "shell.execute_reply": "2023-05-26T06:18:33.546840Z"
    },
    "id": "01ea90bd",
    "outputId": "484fef15-db95-4e07-817d-66232b324d3d",
    "papermill": {
     "duration": 0.0246,
     "end_time": "2023-05-26T06:18:33.550805",
     "exception": false,
     "start_time": "2023-05-26T06:18:33.526205",
     "status": "completed"
    },
    "tags": []
   },
   "outputs": [
    {
     "data": {
      "text/html": [
       "<div>\n",
       "<style scoped>\n",
       "    .dataframe tbody tr th:only-of-type {\n",
       "        vertical-align: middle;\n",
       "    }\n",
       "\n",
       "    .dataframe tbody tr th {\n",
       "        vertical-align: top;\n",
       "    }\n",
       "\n",
       "    .dataframe thead th {\n",
       "        text-align: right;\n",
       "    }\n",
       "</style>\n",
       "<table border=\"1\" class=\"dataframe\">\n",
       "  <thead>\n",
       "    <tr style=\"text-align: right;\">\n",
       "      <th></th>\n",
       "      <th>category</th>\n",
       "      <th>length_of_news</th>\n",
       "      <th>len_news</th>\n",
       "    </tr>\n",
       "  </thead>\n",
       "  <tbody>\n",
       "    <tr>\n",
       "      <th>0</th>\n",
       "      <td>U.S. NEWS</td>\n",
       "      <td>Over 4 Million Americans Roll Up Sleeves For O...</td>\n",
       "      <td>230</td>\n",
       "    </tr>\n",
       "    <tr>\n",
       "      <th>1</th>\n",
       "      <td>U.S. NEWS</td>\n",
       "      <td>American Airlines Flyer Charged, Banned For Li...</td>\n",
       "      <td>248</td>\n",
       "    </tr>\n",
       "    <tr>\n",
       "      <th>2</th>\n",
       "      <td>COMEDY</td>\n",
       "      <td>23 Of The Funniest Tweets About Cats And Dogs ...</td>\n",
       "      <td>133</td>\n",
       "    </tr>\n",
       "    <tr>\n",
       "      <th>3</th>\n",
       "      <td>PARENTING</td>\n",
       "      <td>The Funniest Tweets From Parents This Week (Se...</td>\n",
       "      <td>215</td>\n",
       "    </tr>\n",
       "    <tr>\n",
       "      <th>4</th>\n",
       "      <td>U.S. NEWS</td>\n",
       "      <td>Woman Who Called Cops On Black Bird-Watcher Lo...</td>\n",
       "      <td>233</td>\n",
       "    </tr>\n",
       "  </tbody>\n",
       "</table>\n",
       "</div>"
      ],
      "text/plain": [
       "    category                                     length_of_news  len_news\n",
       "0  U.S. NEWS  Over 4 Million Americans Roll Up Sleeves For O...       230\n",
       "1  U.S. NEWS  American Airlines Flyer Charged, Banned For Li...       248\n",
       "2     COMEDY  23 Of The Funniest Tweets About Cats And Dogs ...       133\n",
       "3  PARENTING  The Funniest Tweets From Parents This Week (Se...       215\n",
       "4  U.S. NEWS  Woman Who Called Cops On Black Bird-Watcher Lo...       233"
      ]
     },
     "execution_count": 8,
     "metadata": {},
     "output_type": "execute_result"
    }
   ],
   "source": [
    "# final_df.drop(columns=['category'])\n",
    "final_df.head()"
   ]
  },
  {
   "cell_type": "code",
   "execution_count": 9,
   "id": "5084bf27",
   "metadata": {
    "execution": {
     "iopub.execute_input": "2023-05-26T06:18:33.568704Z",
     "iopub.status.busy": "2023-05-26T06:18:33.568308Z",
     "iopub.status.idle": "2023-05-26T06:18:53.622237Z",
     "shell.execute_reply": "2023-05-26T06:18:53.621048Z"
    },
    "id": "QPQa1cDjwjO8",
    "outputId": "84c4646d-f008-43e9-b02f-3db973de52e9",
    "papermill": {
     "duration": 20.065629,
     "end_time": "2023-05-26T06:18:53.624550",
     "exception": false,
     "start_time": "2023-05-26T06:18:33.558921",
     "status": "completed"
    },
    "tags": []
   },
   "outputs": [
    {
     "name": "stderr",
     "output_type": "stream",
     "text": [
      "[nltk_data] Downloading package wordnet to\n",
      "[nltk_data]     C:\\Users\\DhanushDevadiga\\AppData\\Roaming\\nltk_data...\n",
      "[nltk_data]   Package wordnet is already up-to-date!\n"
     ]
    },
    {
     "data": {
      "text/plain": [
       "True"
      ]
     },
     "execution_count": 9,
     "metadata": {},
     "output_type": "execute_result"
    }
   ],
   "source": [
    "import nltk\n",
    "nltk.download('wordnet')"
   ]
  },
  {
   "cell_type": "code",
   "execution_count": 10,
   "id": "52700272",
   "metadata": {
    "execution": {
     "iopub.execute_input": "2023-05-26T06:18:53.643101Z",
     "iopub.status.busy": "2023-05-26T06:18:53.642310Z",
     "iopub.status.idle": "2023-05-26T06:18:58.440164Z",
     "shell.execute_reply": "2023-05-26T06:18:58.438908Z"
    },
    "id": "c1c5311d",
    "papermill": {
     "duration": 4.810342,
     "end_time": "2023-05-26T06:18:58.443186",
     "exception": false,
     "start_time": "2023-05-26T06:18:53.632844",
     "status": "completed"
    },
    "tags": []
   },
   "outputs": [],
   "source": [
    "# Preprocess the data\n",
    "def preprocess_text(text):\n",
    "\n",
    "\n",
    "\n",
    "#     # Remove special characters and digits\n",
    "    text = re.sub('[^a-zA-Z]', ' ', text)\n",
    "    # Convert to lowercase\n",
    "    text = text.lower()\n",
    "    # Split into words\n",
    "    words = text.split()\n",
    "    # Join the words\n",
    "    preprocessed_text = ' '.join(words)\n",
    "    return preprocessed_text\n",
    "\n",
    "final_df['length_of_news'] = final_df['length_of_news'].apply(lambda x: preprocess_text(str(x)))\n"
   ]
  },
  {
   "cell_type": "code",
   "execution_count": 11,
   "id": "1c638c43",
   "metadata": {
    "execution": {
     "iopub.execute_input": "2023-05-26T06:18:58.462662Z",
     "iopub.status.busy": "2023-05-26T06:18:58.462019Z",
     "iopub.status.idle": "2023-05-26T06:18:59.030446Z",
     "shell.execute_reply": "2023-05-26T06:18:59.029120Z"
    },
    "id": "b370bf6a",
    "papermill": {
     "duration": 0.581145,
     "end_time": "2023-05-26T06:18:59.033371",
     "exception": false,
     "start_time": "2023-05-26T06:18:58.452226",
     "status": "completed"
    },
    "tags": []
   },
   "outputs": [],
   "source": [
    "final_df['category_merged']=final_df['category'].replace({\"HEALTHY LIVING\": \"WELLNESS\",\n",
    "\"QUEER VOICES\": \"GROUPS VOICES\",\n",
    "\"BUSINESS\": \"BUSINESS & FINANCES\",\n",
    "\"PARENTS\": \"PARENTING\",\n",
    "\"BLACK VOICES\": \"GROUPS VOICES\",\n",
    "\"THE WORLDPOST\": \"WORLD NEWS\",\n",
    "\"STYLE\": \"STYLE & BEAUTY\",\n",
    "\"GREEN\": \"ENVIRONMENT\",\n",
    "\"TASTE\": \"FOOD & DRINK\",\n",
    "\"WORLDPOST\": \"WORLD NEWS\",\n",
    "\"SCIENCE\": \"SCIENCE & TECH\",\n",
    "\"TECH\": \"SCIENCE & TECH\",\n",
    "\"MONEY\": \"BUSINESS & FINANCES\",\n",
    "\"ARTS\": \"ARTS & CULTURE\",\n",
    "\"COLLEGE\": \"EDUCATION\",\n",
    "\"LATINO VOICES\": \"GROUPS VOICES\",\n",
    "\"CULTURE & ARTS\": \"ARTS & CULTURE\",\n",
    "\"FIFTY\": \"MISCELLANEOUS\",\n",
    "\"GOOD NEWS\": \"MISCELLANEOUS\"})"
   ]
  },
  {
   "cell_type": "code",
   "execution_count": 12,
   "id": "69e7d4b1",
   "metadata": {
    "execution": {
     "iopub.execute_input": "2023-05-26T06:18:59.123606Z",
     "iopub.status.busy": "2023-05-26T06:18:59.122996Z",
     "iopub.status.idle": "2023-05-26T06:19:06.979127Z",
     "shell.execute_reply": "2023-05-26T06:19:06.977803Z"
    },
    "id": "6b131d4b",
    "outputId": "fa5737ec-e30a-4cbe-c379-3f9e56ccbf99",
    "papermill": {
     "duration": 7.868907,
     "end_time": "2023-05-26T06:19:06.981984",
     "exception": false,
     "start_time": "2023-05-26T06:18:59.113077",
     "status": "completed"
    },
    "tags": []
   },
   "outputs": [
    {
     "name": "stdout",
     "output_type": "stream",
     "text": [
      "shape of input data:  (209527,)\n",
      "shape of target variable:  (209527,)\n"
     ]
    }
   ],
   "source": [
    "# one hot encoding using keras tokenizer and pad sequencing\n",
    "X = final_df['length_of_news']\n",
    "encoder = LabelEncoder()\n",
    "y = encoder.fit_transform(final_df['category_merged'])\n",
    "print(\"shape of input data: \", X.shape)\n",
    "print(\"shape of target variable: \", y.shape)\n",
    "\n",
    "X_train, X_test, y_train, y_test = train_test_split(X, y, test_size=0.20)\n",
    "tokenizer = Tokenizer(num_words=10000, oov_token='<00V>') \n",
    "tokenizer.fit_on_texts(X_train) # build the word index\n"
   ]
  },
  {
   "cell_type": "code",
   "execution_count": 13,
   "id": "d9eb05fc",
   "metadata": {
    "execution": {
     "iopub.execute_input": "2023-05-26T06:19:07.031111Z",
     "iopub.status.busy": "2023-05-26T06:19:07.030695Z",
     "iopub.status.idle": "2023-05-26T06:19:15.841625Z",
     "shell.execute_reply": "2023-05-26T06:19:15.840247Z"
    },
    "id": "76711ab9",
    "papermill": {
     "duration": 8.82389,
     "end_time": "2023-05-26T06:19:15.844410",
     "exception": false,
     "start_time": "2023-05-26T06:19:07.020520",
     "status": "completed"
    },
    "tags": []
   },
   "outputs": [],
   "source": [
    "# padding X_train text input data\n",
    "train_seq = tokenizer.texts_to_sequences(X_train) # converts strinfs into integer lists\n",
    "train_padseq = pad_sequences(train_seq, maxlen=130) # pads the integer lists to 2D integer tensor \n",
    "\n",
    "# padding X_test text input data\n",
    "test_seq = tokenizer.texts_to_sequences(X_test)\n",
    "test_padseq = pad_sequences(test_seq, maxlen=130)\n",
    "\n"
   ]
  },
  {
   "cell_type": "code",
   "execution_count": 14,
   "id": "df2cd501",
   "metadata": {
    "execution": {
     "iopub.execute_input": "2023-05-26T06:19:15.868846Z",
     "iopub.status.busy": "2023-05-26T06:19:15.868217Z",
     "iopub.status.idle": "2023-05-26T06:19:15.935138Z",
     "shell.execute_reply": "2023-05-26T06:19:15.933509Z"
    },
    "id": "8e8346e0",
    "papermill": {
     "duration": 0.080055,
     "end_time": "2023-05-26T06:19:15.937785",
     "exception": false,
     "start_time": "2023-05-26T06:19:15.857730",
     "status": "completed"
    },
    "tags": []
   },
   "outputs": [
    {
     "name": "stdout",
     "output_type": "stream",
     "text": [
      "Length of word index: 157521\n"
     ]
    }
   ],
   "source": [
    "word_index = tokenizer.word_index\n",
    "max_words = 80000  # total number of words to consider in embedding layer\n",
    "total_words = len(word_index)\n",
    "num_classes = len(final_df['category_merged'].unique())\n",
    "# Convert the labels to categorical\n",
    "maxlen = 130 # max length of sequence \n",
    "y_train = to_categorical(y_train, num_classes=num_classes)\n",
    "y_test = to_categorical(y_test, num_classes=num_classes)\n",
    "# y_train = to_categorical(y_train, dtype =\"uint8\")\n",
    "# y_test = to_categorical(y_test, dtype =\"uint8\")\n",
    "\n",
    "print(\"Length of word index:\", total_words)\n",
    "# print(X_train.shape)"
   ]
  },
  {
   "cell_type": "code",
   "execution_count": 15,
   "id": "4aaae3db",
   "metadata": {
    "execution": {
     "iopub.execute_input": "2023-05-26T06:19:15.957297Z",
     "iopub.status.busy": "2023-05-26T06:19:15.956761Z",
     "iopub.status.idle": "2023-05-26T06:19:15.983431Z",
     "shell.execute_reply": "2023-05-26T06:19:15.982560Z"
    },
    "id": "9acd6fa8",
    "outputId": "96f0f75b-6880-4a2f-ad0d-402b30bccbab",
    "papermill": {
     "duration": 0.039127,
     "end_time": "2023-05-26T06:19:15.985938",
     "exception": false,
     "start_time": "2023-05-26T06:19:15.946811",
     "status": "completed"
    },
    "tags": []
   },
   "outputs": [
    {
     "name": "stdout",
     "output_type": "stream",
     "text": [
      "(167621,)\n",
      "(167621, 27)\n"
     ]
    }
   ],
   "source": [
    "print(np.shape(X_train))\n",
    "print(y_train.shape)\n",
    "from tensorflow.keras.layers import Input\n",
    "input_layer = Input(shape=(maxlen,))\n",
    "# input_layer = Input(shape=(20,))"
   ]
  },
  {
   "cell_type": "code",
   "execution_count": 16,
   "id": "136126e7",
   "metadata": {
    "execution": {
     "iopub.execute_input": "2023-05-26T06:19:16.006557Z",
     "iopub.status.busy": "2023-05-26T06:19:16.006152Z",
     "iopub.status.idle": "2023-05-26T06:19:17.442955Z",
     "shell.execute_reply": "2023-05-26T06:19:17.441435Z"
    },
    "id": "Q0sxFEDyhKz2",
    "outputId": "f27898a8-e42e-45a1-bf02-b323ba6820f2",
    "papermill": {
     "duration": 1.455664,
     "end_time": "2023-05-26T06:19:17.450296",
     "exception": false,
     "start_time": "2023-05-26T06:19:15.994632",
     "status": "completed"
    },
    "tags": []
   },
   "outputs": [
    {
     "name": "stderr",
     "output_type": "stream",
     "text": [
      "c:\\Users\\DhanushDevadiga\\Downloads\\NEWS-Classifier-main\\NEWS-Classifier-main\\myenv\\Lib\\site-packages\\keras\\src\\layers\\core\\embedding.py:90: UserWarning: Argument `input_length` is deprecated. Just remove it.\n",
      "  warnings.warn(\n"
     ]
    },
    {
     "data": {
      "text/html": [
       "<pre style=\"white-space:pre;overflow-x:auto;line-height:normal;font-family:Menlo,'DejaVu Sans Mono',consolas,'Courier New',monospace\"><span style=\"font-weight: bold\">Model: \"sequential\"</span>\n",
       "</pre>\n"
      ],
      "text/plain": [
       "\u001b[1mModel: \"sequential\"\u001b[0m\n"
      ]
     },
     "metadata": {},
     "output_type": "display_data"
    },
    {
     "data": {
      "text/html": [
       "<pre style=\"white-space:pre;overflow-x:auto;line-height:normal;font-family:Menlo,'DejaVu Sans Mono',consolas,'Courier New',monospace\">┏━━━━━━━━━━━━━━━━━━━━━━━━━━━━━━━━━┳━━━━━━━━━━━━━━━━━━━━━━━━┳━━━━━━━━━━━━━━━┓\n",
       "┃<span style=\"font-weight: bold\"> Layer (type)                    </span>┃<span style=\"font-weight: bold\"> Output Shape           </span>┃<span style=\"font-weight: bold\">       Param # </span>┃\n",
       "┡━━━━━━━━━━━━━━━━━━━━━━━━━━━━━━━━━╇━━━━━━━━━━━━━━━━━━━━━━━━╇━━━━━━━━━━━━━━━┩\n",
       "│ embedding (<span style=\"color: #0087ff; text-decoration-color: #0087ff\">Embedding</span>)           │ ?                      │   <span style=\"color: #00af00; text-decoration-color: #00af00\">0</span> (unbuilt) │\n",
       "├─────────────────────────────────┼────────────────────────┼───────────────┤\n",
       "│ bidirectional (<span style=\"color: #0087ff; text-decoration-color: #0087ff\">Bidirectional</span>)   │ ?                      │   <span style=\"color: #00af00; text-decoration-color: #00af00\">0</span> (unbuilt) │\n",
       "├─────────────────────────────────┼────────────────────────┼───────────────┤\n",
       "│ bidirectional_1 (<span style=\"color: #0087ff; text-decoration-color: #0087ff\">Bidirectional</span>) │ ?                      │   <span style=\"color: #00af00; text-decoration-color: #00af00\">0</span> (unbuilt) │\n",
       "├─────────────────────────────────┼────────────────────────┼───────────────┤\n",
       "│ conv1d (<span style=\"color: #0087ff; text-decoration-color: #0087ff\">Conv1D</span>)                 │ ?                      │   <span style=\"color: #00af00; text-decoration-color: #00af00\">0</span> (unbuilt) │\n",
       "├─────────────────────────────────┼────────────────────────┼───────────────┤\n",
       "│ max_pooling1d (<span style=\"color: #0087ff; text-decoration-color: #0087ff\">MaxPooling1D</span>)    │ ?                      │             <span style=\"color: #00af00; text-decoration-color: #00af00\">0</span> │\n",
       "├─────────────────────────────────┼────────────────────────┼───────────────┤\n",
       "│ simple_rnn (<span style=\"color: #0087ff; text-decoration-color: #0087ff\">SimpleRNN</span>)          │ ?                      │   <span style=\"color: #00af00; text-decoration-color: #00af00\">0</span> (unbuilt) │\n",
       "├─────────────────────────────────┼────────────────────────┼───────────────┤\n",
       "│ gru (<span style=\"color: #0087ff; text-decoration-color: #0087ff\">GRU</span>)                       │ ?                      │   <span style=\"color: #00af00; text-decoration-color: #00af00\">0</span> (unbuilt) │\n",
       "├─────────────────────────────────┼────────────────────────┼───────────────┤\n",
       "│ dropout (<span style=\"color: #0087ff; text-decoration-color: #0087ff\">Dropout</span>)               │ ?                      │             <span style=\"color: #00af00; text-decoration-color: #00af00\">0</span> │\n",
       "├─────────────────────────────────┼────────────────────────┼───────────────┤\n",
       "│ dense (<span style=\"color: #0087ff; text-decoration-color: #0087ff\">Dense</span>)                   │ ?                      │   <span style=\"color: #00af00; text-decoration-color: #00af00\">0</span> (unbuilt) │\n",
       "└─────────────────────────────────┴────────────────────────┴───────────────┘\n",
       "</pre>\n"
      ],
      "text/plain": [
       "┏━━━━━━━━━━━━━━━━━━━━━━━━━━━━━━━━━┳━━━━━━━━━━━━━━━━━━━━━━━━┳━━━━━━━━━━━━━━━┓\n",
       "┃\u001b[1m \u001b[0m\u001b[1mLayer (type)                   \u001b[0m\u001b[1m \u001b[0m┃\u001b[1m \u001b[0m\u001b[1mOutput Shape          \u001b[0m\u001b[1m \u001b[0m┃\u001b[1m \u001b[0m\u001b[1m      Param #\u001b[0m\u001b[1m \u001b[0m┃\n",
       "┡━━━━━━━━━━━━━━━━━━━━━━━━━━━━━━━━━╇━━━━━━━━━━━━━━━━━━━━━━━━╇━━━━━━━━━━━━━━━┩\n",
       "│ embedding (\u001b[38;5;33mEmbedding\u001b[0m)           │ ?                      │   \u001b[38;5;34m0\u001b[0m (unbuilt) │\n",
       "├─────────────────────────────────┼────────────────────────┼───────────────┤\n",
       "│ bidirectional (\u001b[38;5;33mBidirectional\u001b[0m)   │ ?                      │   \u001b[38;5;34m0\u001b[0m (unbuilt) │\n",
       "├─────────────────────────────────┼────────────────────────┼───────────────┤\n",
       "│ bidirectional_1 (\u001b[38;5;33mBidirectional\u001b[0m) │ ?                      │   \u001b[38;5;34m0\u001b[0m (unbuilt) │\n",
       "├─────────────────────────────────┼────────────────────────┼───────────────┤\n",
       "│ conv1d (\u001b[38;5;33mConv1D\u001b[0m)                 │ ?                      │   \u001b[38;5;34m0\u001b[0m (unbuilt) │\n",
       "├─────────────────────────────────┼────────────────────────┼───────────────┤\n",
       "│ max_pooling1d (\u001b[38;5;33mMaxPooling1D\u001b[0m)    │ ?                      │             \u001b[38;5;34m0\u001b[0m │\n",
       "├─────────────────────────────────┼────────────────────────┼───────────────┤\n",
       "│ simple_rnn (\u001b[38;5;33mSimpleRNN\u001b[0m)          │ ?                      │   \u001b[38;5;34m0\u001b[0m (unbuilt) │\n",
       "├─────────────────────────────────┼────────────────────────┼───────────────┤\n",
       "│ gru (\u001b[38;5;33mGRU\u001b[0m)                       │ ?                      │   \u001b[38;5;34m0\u001b[0m (unbuilt) │\n",
       "├─────────────────────────────────┼────────────────────────┼───────────────┤\n",
       "│ dropout (\u001b[38;5;33mDropout\u001b[0m)               │ ?                      │             \u001b[38;5;34m0\u001b[0m │\n",
       "├─────────────────────────────────┼────────────────────────┼───────────────┤\n",
       "│ dense (\u001b[38;5;33mDense\u001b[0m)                   │ ?                      │   \u001b[38;5;34m0\u001b[0m (unbuilt) │\n",
       "└─────────────────────────────────┴────────────────────────┴───────────────┘\n"
      ]
     },
     "metadata": {},
     "output_type": "display_data"
    },
    {
     "data": {
      "text/html": [
       "<pre style=\"white-space:pre;overflow-x:auto;line-height:normal;font-family:Menlo,'DejaVu Sans Mono',consolas,'Courier New',monospace\"><span style=\"font-weight: bold\"> Total params: </span><span style=\"color: #00af00; text-decoration-color: #00af00\">0</span> (0.00 B)\n",
       "</pre>\n"
      ],
      "text/plain": [
       "\u001b[1m Total params: \u001b[0m\u001b[38;5;34m0\u001b[0m (0.00 B)\n"
      ]
     },
     "metadata": {},
     "output_type": "display_data"
    },
    {
     "data": {
      "text/html": [
       "<pre style=\"white-space:pre;overflow-x:auto;line-height:normal;font-family:Menlo,'DejaVu Sans Mono',consolas,'Courier New',monospace\"><span style=\"font-weight: bold\"> Trainable params: </span><span style=\"color: #00af00; text-decoration-color: #00af00\">0</span> (0.00 B)\n",
       "</pre>\n"
      ],
      "text/plain": [
       "\u001b[1m Trainable params: \u001b[0m\u001b[38;5;34m0\u001b[0m (0.00 B)\n"
      ]
     },
     "metadata": {},
     "output_type": "display_data"
    },
    {
     "data": {
      "text/html": [
       "<pre style=\"white-space:pre;overflow-x:auto;line-height:normal;font-family:Menlo,'DejaVu Sans Mono',consolas,'Courier New',monospace\"><span style=\"font-weight: bold\"> Non-trainable params: </span><span style=\"color: #00af00; text-decoration-color: #00af00\">0</span> (0.00 B)\n",
       "</pre>\n"
      ],
      "text/plain": [
       "\u001b[1m Non-trainable params: \u001b[0m\u001b[38;5;34m0\u001b[0m (0.00 B)\n"
      ]
     },
     "metadata": {},
     "output_type": "display_data"
    }
   ],
   "source": [
    "from tensorflow.keras.regularizers import l1_l2\n",
    "model_3 = Sequential()\n",
    "model_3.add(Embedding(total_words, 100, input_length=maxlen))\n",
    "model_3.add(Bidirectional(LSTM(64, dropout=0.1, recurrent_dropout=0.10, activation='tanh', return_sequences=True)))\n",
    "model_3.add(Bidirectional(LSTM(64, dropout=0.2, recurrent_dropout=0.20, activation='tanh', return_sequences=True)))\n",
    "model_3.add(Conv1D(72, 3, activation='relu'))\n",
    "model_3.add(MaxPooling1D(2))\n",
    "model_3.add(SimpleRNN(64, activation='tanh', dropout=0.2, recurrent_dropout=0.20, return_sequences=True))\n",
    "model_3.add(GRU(64, recurrent_dropout=0.20, recurrent_regularizer=l1_l2(l1=0.01, l2=0.01)))\n",
    "model_3.add(Dropout(0.2))\n",
    "model_3.add(Dense(27, activation='sigmoid'))\n",
    "model_3.summary()"
   ]
  },
  {
   "cell_type": "code",
   "execution_count": null,
   "id": "a5797e94",
   "metadata": {
    "execution": {
     "iopub.execute_input": "2023-05-26T06:19:17.474999Z",
     "iopub.status.busy": "2023-05-26T06:19:17.474566Z",
     "iopub.status.idle": "2023-05-26T16:51:40.596355Z",
     "shell.execute_reply": "2023-05-26T16:51:40.595367Z"
    },
    "id": "Mh_P8RcMjCEv",
    "outputId": "88f19802-d13e-40c5-b354-628b7d190749",
    "papermill": {
     "duration": 37946.959106,
     "end_time": "2023-05-26T16:51:44.420660",
     "exception": false,
     "start_time": "2023-05-26T06:19:17.461554",
     "status": "completed"
    },
    "tags": []
   },
   "outputs": [
    {
     "name": "stdout",
     "output_type": "stream",
     "text": [
      "Epoch 1/20\n",
      "\u001b[1m2096/2096\u001b[0m \u001b[32m━━━━━━━━━━━━━━━━━━━━\u001b[0m\u001b[37m\u001b[0m \u001b[1m0s\u001b[0m 577ms/step - accuracy: 0.2508 - loss: 3.4614\n",
      "Epoch 1: val_loss improved from inf to 2.13317, saving model to bestmodel.keras\n",
      "\u001b[1m2096/2096\u001b[0m \u001b[32m━━━━━━━━━━━━━━━━━━━━\u001b[0m\u001b[37m\u001b[0m \u001b[1m1357s\u001b[0m 617ms/step - accuracy: 0.2508 - loss: 3.4610 - val_accuracy: 0.4180 - val_loss: 2.1332\n",
      "Epoch 2/20\n",
      "\u001b[1m2096/2096\u001b[0m \u001b[32m━━━━━━━━━━━━━━━━━━━━\u001b[0m\u001b[37m\u001b[0m \u001b[1m0s\u001b[0m 629ms/step - accuracy: 0.4606 - loss: 2.0349\n",
      "Epoch 2: val_loss improved from 2.13317 to 1.83400, saving model to bestmodel.keras\n",
      "\u001b[1m2096/2096\u001b[0m \u001b[32m━━━━━━━━━━━━━━━━━━━━\u001b[0m\u001b[37m\u001b[0m \u001b[1m1384s\u001b[0m 660ms/step - accuracy: 0.4606 - loss: 2.0349 - val_accuracy: 0.5316 - val_loss: 1.8340\n",
      "Epoch 3/20\n",
      "\u001b[1m 779/2096\u001b[0m \u001b[32m━━━━━━━\u001b[0m\u001b[37m━━━━━━━━━━━━━\u001b[0m \u001b[1m11:58\u001b[0m 546ms/step - accuracy: 0.5469 - loss: 1.7613"
     ]
    }
   ],
   "source": [
    "from tensorflow.keras.callbacks import EarlyStopping, ModelCheckpoint\n",
    "from tensorflow.keras.models import Sequential\n",
    "\n",
    "# Compile the model\n",
    "model_3.compile(optimizer='rmsprop',\n",
    "                loss='categorical_crossentropy',\n",
    "                metrics=['accuracy'])\n",
    "\n",
    "# Setup EarlyStopping callback\n",
    "earlystopping = EarlyStopping(monitor='val_accuracy',\n",
    "                              patience=5,\n",
    "                              verbose=1,\n",
    "                              mode='max')\n",
    "\n",
    "# Setup ModelCheckpoint callback with .keras extension\n",
    "checkpointer = ModelCheckpoint(filepath='bestmodel.keras',\n",
    "                               monitor='val_loss',\n",
    "                               verbose=1,\n",
    "                               save_best_only=True)\n",
    "\n",
    "callback_list = [checkpointer, earlystopping]\n",
    "\n",
    "# Fit model to the data\n",
    "history3 = model_3.fit(train_padseq, y_train, \n",
    "                       batch_size=64, \n",
    "                       epochs=20, \n",
    "                       validation_split=0.2,\n",
    "                       shuffle=True,\n",
    "                       callbacks=callback_list)\n",
    "\n",
    "# Evaluate the model\n",
    "test_loss3, test_acc3 = model_3.evaluate(test_padseq, y_test, verbose=0)\n",
    "print(\"Test loss and accuracy:\", test_loss3, test_acc3)"
   ]
  },
  {
   "cell_type": "code",
   "execution_count": null,
   "id": "4cb21bb8",
   "metadata": {
    "execution": {
     "iopub.execute_input": "2023-05-26T16:51:52.468541Z",
     "iopub.status.busy": "2023-05-26T16:51:52.468092Z",
     "iopub.status.idle": "2023-05-26T16:51:52.888528Z",
     "shell.execute_reply": "2023-05-26T16:51:52.887318Z"
    },
    "id": "ezB9G4WPjcIU",
    "papermill": {
     "duration": 4.450433,
     "end_time": "2023-05-26T16:51:52.891603",
     "exception": false,
     "start_time": "2023-05-26T16:51:48.441170",
     "status": "completed"
    },
    "tags": []
   },
   "outputs": [],
   "source": [
    "model_3.save(\"the_model.h5\")"
   ]
  },
  {
   "cell_type": "code",
   "execution_count": null,
   "id": "2b905894",
   "metadata": {
    "execution": {
     "iopub.execute_input": "2023-05-26T16:52:00.715043Z",
     "iopub.status.busy": "2023-05-26T16:52:00.714609Z",
     "iopub.status.idle": "2023-05-26T16:52:00.901474Z",
     "shell.execute_reply": "2023-05-26T16:52:00.900282Z"
    },
    "papermill": {
     "duration": 4.221757,
     "end_time": "2023-05-26T16:52:00.904434",
     "exception": false,
     "start_time": "2023-05-26T16:51:56.682677",
     "status": "completed"
    },
    "tags": []
   },
   "outputs": [],
   "source": [
    "model_3.save_weights(\"the_weight.h5\")"
   ]
  },
  {
   "cell_type": "code",
   "execution_count": null,
   "id": "efc0dad1",
   "metadata": {
    "execution": {
     "iopub.execute_input": "2023-05-26T16:52:08.803750Z",
     "iopub.status.busy": "2023-05-26T16:52:08.803351Z",
     "iopub.status.idle": "2023-05-26T16:52:09.121251Z",
     "shell.execute_reply": "2023-05-26T16:52:09.119981Z"
    },
    "papermill": {
     "duration": 4.158305,
     "end_time": "2023-05-26T16:52:09.124422",
     "exception": false,
     "start_time": "2023-05-26T16:52:04.966117",
     "status": "completed"
    },
    "tags": []
   },
   "outputs": [],
   "source": [
    "import pickle\n",
    "pickle.dump(encoder, open('encoder_kaggle.pkl', 'wb'))\n",
    "pickle.dump(tokenizer, open('tokenizer_kaggle.pkl', 'wb'))"
   ]
  },
  {
   "cell_type": "code",
   "execution_count": null,
   "id": "bece0884",
   "metadata": {},
   "outputs": [],
   "source": []
  },
  {
   "cell_type": "code",
   "execution_count": null,
   "id": "b257f45b",
   "metadata": {},
   "outputs": [],
   "source": []
  },
  {
   "cell_type": "code",
   "execution_count": null,
   "id": "9f0deb96",
   "metadata": {},
   "outputs": [],
   "source": []
  }
 ],
 "metadata": {
  "kernelspec": {
   "display_name": "myenv",
   "language": "python",
   "name": "python3"
  },
  "language_info": {
   "codemirror_mode": {
    "name": "ipython",
    "version": 3
   },
   "file_extension": ".py",
   "mimetype": "text/x-python",
   "name": "python",
   "nbconvert_exporter": "python",
   "pygments_lexer": "ipython3",
   "version": "3.12.4"
  },
  "papermill": {
   "default_parameters": {},
   "duration": 38054.77176,
   "end_time": "2023-05-26T16:52:16.036414",
   "environment_variables": {},
   "exception": null,
   "input_path": "__notebook__.ipynb",
   "output_path": "__notebook__.ipynb",
   "parameters": {},
   "start_time": "2023-05-26T06:18:01.264654",
   "version": "2.4.0"
  }
 },
 "nbformat": 4,
 "nbformat_minor": 5
}

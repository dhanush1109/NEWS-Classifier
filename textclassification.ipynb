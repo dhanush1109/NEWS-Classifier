{
 "cells": [
  {
   "cell_type": "code",
   "execution_count": 1,
   "id": "a543ea88",
   "metadata": {},
   "outputs": [
    {
     "name": "stdout",
     "output_type": "stream",
     "text": [
      "Requirement already satisfied: scikit-learn in c:\\users\\asus\\appdata\\local\\programs\\python\\python310\\lib\\site-packages (1.3.0)\n",
      "Requirement already satisfied: joblib>=1.1.1 in c:\\users\\asus\\appdata\\local\\programs\\python\\python310\\lib\\site-packages (from scikit-learn) (1.3.2)\n",
      "Requirement already satisfied: scipy>=1.5.0 in c:\\users\\asus\\appdata\\local\\programs\\python\\python310\\lib\\site-packages (from scikit-learn) (1.11.1)\n",
      "Requirement already satisfied: numpy>=1.17.3 in c:\\users\\asus\\appdata\\local\\programs\\python\\python310\\lib\\site-packages (from scikit-learn) (1.24.3)\n",
      "Requirement already satisfied: threadpoolctl>=2.0.0 in c:\\users\\asus\\appdata\\local\\programs\\python\\python310\\lib\\site-packages (from scikit-learn) (3.2.0)\n"
     ]
    },
    {
     "name": "stderr",
     "output_type": "stream",
     "text": [
      "\n",
      "[notice] A new release of pip available: 22.3.1 -> 23.2.1\n",
      "[notice] To update, run: python.exe -m pip install --upgrade pip\n"
     ]
    }
   ],
   "source": [
    "!pip install scikit-learn"
   ]
  },
  {
   "cell_type": "code",
   "execution_count": 2,
   "id": "bc37b0bf",
   "metadata": {
    "execution": {
     "iopub.execute_input": "2023-05-26T06:18:16.053205Z",
     "iopub.status.busy": "2023-05-26T06:18:16.052765Z",
     "iopub.status.idle": "2023-05-26T06:18:28.153220Z",
     "shell.execute_reply": "2023-05-26T06:18:28.151630Z"
    },
    "id": "3439f798",
    "papermill": {
     "duration": 12.113082,
     "end_time": "2023-05-26T06:18:28.156476",
     "exception": false,
     "start_time": "2023-05-26T06:18:16.043394",
     "status": "completed"
    },
    "tags": []
   },
   "outputs": [],
   "source": [
    "#import libraries\n",
    "import json\n",
    "import pandas as pd\n",
    "import numpy as np\n",
    "import re\n",
    "import matplotlib.pyplot as plt\n",
    "import seaborn as sns\n",
    "from wordcloud import WordCloud, STOPWORDS\n",
    "from nltk.corpus import stopwords\n",
    "from nltk.stem.wordnet import WordNetLemmatizer\n",
    "from keras.preprocessing.text import Tokenizer\n",
    "from sklearn.preprocessing import LabelEncoder\n",
    "from sklearn.model_selection import train_test_split\n",
    "from tensorflow.keras.preprocessing.sequence import pad_sequences\n",
    "from keras.layers import Conv1D, SimpleRNN, Bidirectional,MaxPooling1D, GlobalMaxPooling1D, GlobalMaxPool1D, LSTM, GRU\n",
    "from keras.models import Sequential\n",
    "from keras.layers import Embedding, Flatten, Dense, Dropout\n",
    "from keras.layers import Dense, LSTM, Embedding\n",
    "from tensorflow import keras\n",
    "from tensorflow.keras.models import Model\n",
    "from keras.callbacks import ModelCheckpoint\n",
    "from tensorflow.keras.utils import to_categorical\n",
    "\n",
    "# from sklearn.utils.class_weight import compute_class_weight"
   ]
  },
  {
   "cell_type": "code",
   "execution_count": 3,
   "id": "d4e7a040",
   "metadata": {
    "execution": {
     "iopub.execute_input": "2023-05-26T06:18:28.175689Z",
     "iopub.status.busy": "2023-05-26T06:18:28.174686Z",
     "iopub.status.idle": "2023-05-26T06:18:33.137844Z",
     "shell.execute_reply": "2023-05-26T06:18:33.136376Z"
    },
    "id": "ad532b49",
    "outputId": "981b3c84-8654-4694-d91c-1ee058633966",
    "papermill": {
     "duration": 4.974982,
     "end_time": "2023-05-26T06:18:33.140733",
     "exception": false,
     "start_time": "2023-05-26T06:18:28.165751",
     "status": "completed"
    },
    "tags": []
   },
   "outputs": [
    {
     "data": {
      "text/html": [
       "<div>\n",
       "<style scoped>\n",
       "    .dataframe tbody tr th:only-of-type {\n",
       "        vertical-align: middle;\n",
       "    }\n",
       "\n",
       "    .dataframe tbody tr th {\n",
       "        vertical-align: top;\n",
       "    }\n",
       "\n",
       "    .dataframe thead th {\n",
       "        text-align: right;\n",
       "    }\n",
       "</style>\n",
       "<table border=\"1\" class=\"dataframe\">\n",
       "  <thead>\n",
       "    <tr style=\"text-align: right;\">\n",
       "      <th></th>\n",
       "      <th>link</th>\n",
       "      <th>headline</th>\n",
       "      <th>category</th>\n",
       "      <th>short_description</th>\n",
       "      <th>authors</th>\n",
       "      <th>date</th>\n",
       "    </tr>\n",
       "  </thead>\n",
       "  <tbody>\n",
       "    <tr>\n",
       "      <th>0</th>\n",
       "      <td>https://www.huffpost.com/entry/covid-boosters-...</td>\n",
       "      <td>Over 4 Million Americans Roll Up Sleeves For O...</td>\n",
       "      <td>U.S. NEWS</td>\n",
       "      <td>Health experts said it is too early to predict...</td>\n",
       "      <td>Carla K. Johnson, AP</td>\n",
       "      <td>2022-09-23</td>\n",
       "    </tr>\n",
       "    <tr>\n",
       "      <th>1</th>\n",
       "      <td>https://www.huffpost.com/entry/american-airlin...</td>\n",
       "      <td>American Airlines Flyer Charged, Banned For Li...</td>\n",
       "      <td>U.S. NEWS</td>\n",
       "      <td>He was subdued by passengers and crew when he ...</td>\n",
       "      <td>Mary Papenfuss</td>\n",
       "      <td>2022-09-23</td>\n",
       "    </tr>\n",
       "    <tr>\n",
       "      <th>2</th>\n",
       "      <td>https://www.huffpost.com/entry/funniest-tweets...</td>\n",
       "      <td>23 Of The Funniest Tweets About Cats And Dogs ...</td>\n",
       "      <td>COMEDY</td>\n",
       "      <td>\"Until you have a dog you don't understand wha...</td>\n",
       "      <td>Elyse Wanshel</td>\n",
       "      <td>2022-09-23</td>\n",
       "    </tr>\n",
       "    <tr>\n",
       "      <th>3</th>\n",
       "      <td>https://www.huffpost.com/entry/funniest-parent...</td>\n",
       "      <td>The Funniest Tweets From Parents This Week (Se...</td>\n",
       "      <td>PARENTING</td>\n",
       "      <td>\"Accidentally put grown-up toothpaste on my to...</td>\n",
       "      <td>Caroline Bologna</td>\n",
       "      <td>2022-09-23</td>\n",
       "    </tr>\n",
       "    <tr>\n",
       "      <th>4</th>\n",
       "      <td>https://www.huffpost.com/entry/amy-cooper-lose...</td>\n",
       "      <td>Woman Who Called Cops On Black Bird-Watcher Lo...</td>\n",
       "      <td>U.S. NEWS</td>\n",
       "      <td>Amy Cooper accused investment firm Franklin Te...</td>\n",
       "      <td>Nina Golgowski</td>\n",
       "      <td>2022-09-22</td>\n",
       "    </tr>\n",
       "  </tbody>\n",
       "</table>\n",
       "</div>"
      ],
      "text/plain": [
       "                                                link  \\\n",
       "0  https://www.huffpost.com/entry/covid-boosters-...   \n",
       "1  https://www.huffpost.com/entry/american-airlin...   \n",
       "2  https://www.huffpost.com/entry/funniest-tweets...   \n",
       "3  https://www.huffpost.com/entry/funniest-parent...   \n",
       "4  https://www.huffpost.com/entry/amy-cooper-lose...   \n",
       "\n",
       "                                            headline   category  \\\n",
       "0  Over 4 Million Americans Roll Up Sleeves For O...  U.S. NEWS   \n",
       "1  American Airlines Flyer Charged, Banned For Li...  U.S. NEWS   \n",
       "2  23 Of The Funniest Tweets About Cats And Dogs ...     COMEDY   \n",
       "3  The Funniest Tweets From Parents This Week (Se...  PARENTING   \n",
       "4  Woman Who Called Cops On Black Bird-Watcher Lo...  U.S. NEWS   \n",
       "\n",
       "                                   short_description               authors  \\\n",
       "0  Health experts said it is too early to predict...  Carla K. Johnson, AP   \n",
       "1  He was subdued by passengers and crew when he ...        Mary Papenfuss   \n",
       "2  \"Until you have a dog you don't understand wha...         Elyse Wanshel   \n",
       "3  \"Accidentally put grown-up toothpaste on my to...      Caroline Bologna   \n",
       "4  Amy Cooper accused investment firm Franklin Te...        Nina Golgowski   \n",
       "\n",
       "        date  \n",
       "0 2022-09-23  \n",
       "1 2022-09-23  \n",
       "2 2022-09-23  \n",
       "3 2022-09-23  \n",
       "4 2022-09-22  "
      ]
     },
     "execution_count": 3,
     "metadata": {},
     "output_type": "execute_result"
    }
   ],
   "source": [
    "# Load the JSON file into a pandas DataFrame\n",
    "df = pd.read_json('News_Category_Dataset_v3.json', lines=True)\n",
    "df.head()"
   ]
  },
  {
   "cell_type": "code",
   "execution_count": 4,
   "id": "2627798e",
   "metadata": {
    "execution": {
     "iopub.execute_input": "2023-05-26T06:18:33.157715Z",
     "iopub.status.busy": "2023-05-26T06:18:33.157269Z",
     "iopub.status.idle": "2023-05-26T06:18:33.178834Z",
     "shell.execute_reply": "2023-05-26T06:18:33.178012Z"
    },
    "id": "e204adbf",
    "outputId": "9ad5e0d9-08e6-4937-a4e2-e0d1b270415f",
    "papermill": {
     "duration": 0.033052,
     "end_time": "2023-05-26T06:18:33.181412",
     "exception": false,
     "start_time": "2023-05-26T06:18:33.148360",
     "status": "completed"
    },
    "tags": []
   },
   "outputs": [
    {
     "name": "stdout",
     "output_type": "stream",
     "text": [
      "209527\n"
     ]
    }
   ],
   "source": [
    "# #dropping unnecessary columns\n",
    "new_df = df.drop(columns=['authors','link','date'])\n",
    "new_df.head()\n",
    "print(len(new_df))"
   ]
  },
  {
   "attachments": {},
   "cell_type": "markdown",
   "id": "01b17817",
   "metadata": {
    "id": "VRzAhrG3M0-n",
    "papermill": {
     "duration": 0.007965,
     "end_time": "2023-05-26T06:18:33.197579",
     "exception": false,
     "start_time": "2023-05-26T06:18:33.189614",
     "status": "completed"
    },
    "tags": []
   },
   "source": [
    "# New Section"
   ]
  },
  {
   "cell_type": "code",
   "execution_count": 5,
   "id": "fe411874",
   "metadata": {
    "execution": {
     "iopub.execute_input": "2023-05-26T06:18:33.215697Z",
     "iopub.status.busy": "2023-05-26T06:18:33.214948Z",
     "iopub.status.idle": "2023-05-26T06:18:33.515667Z",
     "shell.execute_reply": "2023-05-26T06:18:33.514489Z"
    },
    "id": "13aa8dc1",
    "outputId": "2a47ba8d-051e-4d42-d1ba-1cd81c509eec",
    "papermill": {
     "duration": 0.31316,
     "end_time": "2023-05-26T06:18:33.518395",
     "exception": false,
     "start_time": "2023-05-26T06:18:33.205235",
     "status": "completed"
    },
    "tags": []
   },
   "outputs": [
    {
     "data": {
      "text/html": [
       "<div>\n",
       "<style scoped>\n",
       "    .dataframe tbody tr th:only-of-type {\n",
       "        vertical-align: middle;\n",
       "    }\n",
       "\n",
       "    .dataframe tbody tr th {\n",
       "        vertical-align: top;\n",
       "    }\n",
       "\n",
       "    .dataframe thead th {\n",
       "        text-align: right;\n",
       "    }\n",
       "</style>\n",
       "<table border=\"1\" class=\"dataframe\">\n",
       "  <thead>\n",
       "    <tr style=\"text-align: right;\">\n",
       "      <th></th>\n",
       "      <th>category</th>\n",
       "      <th>length_of_news</th>\n",
       "      <th>len_news</th>\n",
       "    </tr>\n",
       "  </thead>\n",
       "  <tbody>\n",
       "    <tr>\n",
       "      <th>0</th>\n",
       "      <td>U.S. NEWS</td>\n",
       "      <td>Over 4 Million Americans Roll Up Sleeves For O...</td>\n",
       "      <td>230</td>\n",
       "    </tr>\n",
       "    <tr>\n",
       "      <th>1</th>\n",
       "      <td>U.S. NEWS</td>\n",
       "      <td>American Airlines Flyer Charged, Banned For Li...</td>\n",
       "      <td>248</td>\n",
       "    </tr>\n",
       "    <tr>\n",
       "      <th>2</th>\n",
       "      <td>COMEDY</td>\n",
       "      <td>23 Of The Funniest Tweets About Cats And Dogs ...</td>\n",
       "      <td>133</td>\n",
       "    </tr>\n",
       "    <tr>\n",
       "      <th>3</th>\n",
       "      <td>PARENTING</td>\n",
       "      <td>The Funniest Tweets From Parents This Week (Se...</td>\n",
       "      <td>215</td>\n",
       "    </tr>\n",
       "    <tr>\n",
       "      <th>4</th>\n",
       "      <td>U.S. NEWS</td>\n",
       "      <td>Woman Who Called Cops On Black Bird-Watcher Lo...</td>\n",
       "      <td>233</td>\n",
       "    </tr>\n",
       "  </tbody>\n",
       "</table>\n",
       "</div>"
      ],
      "text/plain": [
       "    category                                     length_of_news  len_news\n",
       "0  U.S. NEWS  Over 4 Million Americans Roll Up Sleeves For O...       230\n",
       "1  U.S. NEWS  American Airlines Flyer Charged, Banned For Li...       248\n",
       "2     COMEDY  23 Of The Funniest Tweets About Cats And Dogs ...       133\n",
       "3  PARENTING  The Funniest Tweets From Parents This Week (Se...       215\n",
       "4  U.S. NEWS  Woman Who Called Cops On Black Bird-Watcher Lo...       233"
      ]
     },
     "execution_count": 5,
     "metadata": {},
     "output_type": "execute_result"
    }
   ],
   "source": [
    "# create final dataframe of combined headline and short_description\n",
    "final_df = new_df.copy()\n",
    "final_df['length_of_news'] = final_df['headline'] + final_df['short_description']\n",
    "final_df.drop(['headline','short_description'], inplace=True, axis=1)\n",
    "final_df['len_news'] = final_df['length_of_news'].apply(lambda x: len(str(x)))\n",
    "final_df.head()\n"
   ]
  },
  {
   "cell_type": "code",
   "execution_count": 6,
   "id": "a81eda84",
   "metadata": {
    "execution": {
     "iopub.execute_input": "2023-05-26T06:18:33.536033Z",
     "iopub.status.busy": "2023-05-26T06:18:33.535571Z",
     "iopub.status.idle": "2023-05-26T06:18:33.548293Z",
     "shell.execute_reply": "2023-05-26T06:18:33.546840Z"
    },
    "id": "01ea90bd",
    "outputId": "484fef15-db95-4e07-817d-66232b324d3d",
    "papermill": {
     "duration": 0.0246,
     "end_time": "2023-05-26T06:18:33.550805",
     "exception": false,
     "start_time": "2023-05-26T06:18:33.526205",
     "status": "completed"
    },
    "tags": []
   },
   "outputs": [
    {
     "data": {
      "text/html": [
       "<div>\n",
       "<style scoped>\n",
       "    .dataframe tbody tr th:only-of-type {\n",
       "        vertical-align: middle;\n",
       "    }\n",
       "\n",
       "    .dataframe tbody tr th {\n",
       "        vertical-align: top;\n",
       "    }\n",
       "\n",
       "    .dataframe thead th {\n",
       "        text-align: right;\n",
       "    }\n",
       "</style>\n",
       "<table border=\"1\" class=\"dataframe\">\n",
       "  <thead>\n",
       "    <tr style=\"text-align: right;\">\n",
       "      <th></th>\n",
       "      <th>category</th>\n",
       "      <th>length_of_news</th>\n",
       "      <th>len_news</th>\n",
       "    </tr>\n",
       "  </thead>\n",
       "  <tbody>\n",
       "    <tr>\n",
       "      <th>0</th>\n",
       "      <td>U.S. NEWS</td>\n",
       "      <td>Over 4 Million Americans Roll Up Sleeves For O...</td>\n",
       "      <td>230</td>\n",
       "    </tr>\n",
       "    <tr>\n",
       "      <th>1</th>\n",
       "      <td>U.S. NEWS</td>\n",
       "      <td>American Airlines Flyer Charged, Banned For Li...</td>\n",
       "      <td>248</td>\n",
       "    </tr>\n",
       "    <tr>\n",
       "      <th>2</th>\n",
       "      <td>COMEDY</td>\n",
       "      <td>23 Of The Funniest Tweets About Cats And Dogs ...</td>\n",
       "      <td>133</td>\n",
       "    </tr>\n",
       "    <tr>\n",
       "      <th>3</th>\n",
       "      <td>PARENTING</td>\n",
       "      <td>The Funniest Tweets From Parents This Week (Se...</td>\n",
       "      <td>215</td>\n",
       "    </tr>\n",
       "    <tr>\n",
       "      <th>4</th>\n",
       "      <td>U.S. NEWS</td>\n",
       "      <td>Woman Who Called Cops On Black Bird-Watcher Lo...</td>\n",
       "      <td>233</td>\n",
       "    </tr>\n",
       "  </tbody>\n",
       "</table>\n",
       "</div>"
      ],
      "text/plain": [
       "    category                                     length_of_news  len_news\n",
       "0  U.S. NEWS  Over 4 Million Americans Roll Up Sleeves For O...       230\n",
       "1  U.S. NEWS  American Airlines Flyer Charged, Banned For Li...       248\n",
       "2     COMEDY  23 Of The Funniest Tweets About Cats And Dogs ...       133\n",
       "3  PARENTING  The Funniest Tweets From Parents This Week (Se...       215\n",
       "4  U.S. NEWS  Woman Who Called Cops On Black Bird-Watcher Lo...       233"
      ]
     },
     "execution_count": 6,
     "metadata": {},
     "output_type": "execute_result"
    }
   ],
   "source": [
    "# final_df.drop(columns=['category'])\n",
    "final_df.head()"
   ]
  },
  {
   "cell_type": "code",
   "execution_count": 7,
   "id": "5084bf27",
   "metadata": {
    "execution": {
     "iopub.execute_input": "2023-05-26T06:18:33.568704Z",
     "iopub.status.busy": "2023-05-26T06:18:33.568308Z",
     "iopub.status.idle": "2023-05-26T06:18:53.622237Z",
     "shell.execute_reply": "2023-05-26T06:18:53.621048Z"
    },
    "id": "QPQa1cDjwjO8",
    "outputId": "84c4646d-f008-43e9-b02f-3db973de52e9",
    "papermill": {
     "duration": 20.065629,
     "end_time": "2023-05-26T06:18:53.624550",
     "exception": false,
     "start_time": "2023-05-26T06:18:33.558921",
     "status": "completed"
    },
    "tags": []
   },
   "outputs": [
    {
     "name": "stderr",
     "output_type": "stream",
     "text": [
      "[nltk_data] Downloading package wordnet to\n",
      "[nltk_data]     C:\\Users\\ASUS\\AppData\\Roaming\\nltk_data...\n",
      "[nltk_data]   Package wordnet is already up-to-date!\n"
     ]
    },
    {
     "data": {
      "text/plain": [
       "True"
      ]
     },
     "execution_count": 7,
     "metadata": {},
     "output_type": "execute_result"
    }
   ],
   "source": [
    "import nltk\n",
    "nltk.download('wordnet')"
   ]
  },
  {
   "cell_type": "code",
   "execution_count": 8,
   "id": "52700272",
   "metadata": {
    "execution": {
     "iopub.execute_input": "2023-05-26T06:18:53.643101Z",
     "iopub.status.busy": "2023-05-26T06:18:53.642310Z",
     "iopub.status.idle": "2023-05-26T06:18:58.440164Z",
     "shell.execute_reply": "2023-05-26T06:18:58.438908Z"
    },
    "id": "c1c5311d",
    "papermill": {
     "duration": 4.810342,
     "end_time": "2023-05-26T06:18:58.443186",
     "exception": false,
     "start_time": "2023-05-26T06:18:53.632844",
     "status": "completed"
    },
    "tags": []
   },
   "outputs": [],
   "source": [
    "# Preprocess the data\n",
    "def preprocess_text(text):\n",
    "\n",
    "\n",
    "\n",
    "#     # Remove special characters and digits\n",
    "    text = re.sub('[^a-zA-Z]', ' ', text)\n",
    "    # Convert to lowercase\n",
    "    text = text.lower()\n",
    "    # Split into words\n",
    "    words = text.split()\n",
    "    # Join the words\n",
    "    preprocessed_text = ' '.join(words)\n",
    "    return preprocessed_text\n",
    "\n",
    "final_df['length_of_news'] = final_df['length_of_news'].apply(lambda x: preprocess_text(str(x)))\n"
   ]
  },
  {
   "cell_type": "code",
   "execution_count": 9,
   "id": "1c638c43",
   "metadata": {
    "execution": {
     "iopub.execute_input": "2023-05-26T06:18:58.462662Z",
     "iopub.status.busy": "2023-05-26T06:18:58.462019Z",
     "iopub.status.idle": "2023-05-26T06:18:59.030446Z",
     "shell.execute_reply": "2023-05-26T06:18:59.029120Z"
    },
    "id": "b370bf6a",
    "papermill": {
     "duration": 0.581145,
     "end_time": "2023-05-26T06:18:59.033371",
     "exception": false,
     "start_time": "2023-05-26T06:18:58.452226",
     "status": "completed"
    },
    "tags": []
   },
   "outputs": [],
   "source": [
    "final_df['category_merged']=final_df['category'].replace({\"HEALTHY LIVING\": \"WELLNESS\",\n",
    "\"QUEER VOICES\": \"GROUPS VOICES\",\n",
    "\"BUSINESS\": \"BUSINESS & FINANCES\",\n",
    "\"PARENTS\": \"PARENTING\",\n",
    "\"BLACK VOICES\": \"GROUPS VOICES\",\n",
    "\"THE WORLDPOST\": \"WORLD NEWS\",\n",
    "\"STYLE\": \"STYLE & BEAUTY\",\n",
    "\"GREEN\": \"ENVIRONMENT\",\n",
    "\"TASTE\": \"FOOD & DRINK\",\n",
    "\"WORLDPOST\": \"WORLD NEWS\",\n",
    "\"SCIENCE\": \"SCIENCE & TECH\",\n",
    "\"TECH\": \"SCIENCE & TECH\",\n",
    "\"MONEY\": \"BUSINESS & FINANCES\",\n",
    "\"ARTS\": \"ARTS & CULTURE\",\n",
    "\"COLLEGE\": \"EDUCATION\",\n",
    "\"LATINO VOICES\": \"GROUPS VOICES\",\n",
    "\"CULTURE & ARTS\": \"ARTS & CULTURE\",\n",
    "\"FIFTY\": \"MISCELLANEOUS\",\n",
    "\"GOOD NEWS\": \"MISCELLANEOUS\"})"
   ]
  },
  {
   "cell_type": "code",
   "execution_count": 10,
   "id": "69e7d4b1",
   "metadata": {
    "execution": {
     "iopub.execute_input": "2023-05-26T06:18:59.123606Z",
     "iopub.status.busy": "2023-05-26T06:18:59.122996Z",
     "iopub.status.idle": "2023-05-26T06:19:06.979127Z",
     "shell.execute_reply": "2023-05-26T06:19:06.977803Z"
    },
    "id": "6b131d4b",
    "outputId": "fa5737ec-e30a-4cbe-c379-3f9e56ccbf99",
    "papermill": {
     "duration": 7.868907,
     "end_time": "2023-05-26T06:19:06.981984",
     "exception": false,
     "start_time": "2023-05-26T06:18:59.113077",
     "status": "completed"
    },
    "tags": []
   },
   "outputs": [
    {
     "name": "stdout",
     "output_type": "stream",
     "text": [
      "shape of input data:  (209527,)\n",
      "shape of target variable:  (209527,)\n"
     ]
    }
   ],
   "source": [
    "# one hot encoding using keras tokenizer and pad sequencing\n",
    "X = final_df['length_of_news']\n",
    "encoder = LabelEncoder()\n",
    "y = encoder.fit_transform(final_df['category_merged'])\n",
    "print(\"shape of input data: \", X.shape)\n",
    "print(\"shape of target variable: \", y.shape)\n",
    "\n",
    "X_train, X_test, y_train, y_test = train_test_split(X, y, test_size=0.20)\n",
    "tokenizer = Tokenizer(num_words=10000, oov_token='<00V>') \n",
    "tokenizer.fit_on_texts(X_train) # build the word index\n"
   ]
  },
  {
   "cell_type": "code",
   "execution_count": 11,
   "id": "d9eb05fc",
   "metadata": {
    "execution": {
     "iopub.execute_input": "2023-05-26T06:19:07.031111Z",
     "iopub.status.busy": "2023-05-26T06:19:07.030695Z",
     "iopub.status.idle": "2023-05-26T06:19:15.841625Z",
     "shell.execute_reply": "2023-05-26T06:19:15.840247Z"
    },
    "id": "76711ab9",
    "papermill": {
     "duration": 8.82389,
     "end_time": "2023-05-26T06:19:15.844410",
     "exception": false,
     "start_time": "2023-05-26T06:19:07.020520",
     "status": "completed"
    },
    "tags": []
   },
   "outputs": [],
   "source": [
    "# padding X_train text input data\n",
    "train_seq = tokenizer.texts_to_sequences(X_train) # converts strinfs into integer lists\n",
    "train_padseq = pad_sequences(train_seq, maxlen=130) # pads the integer lists to 2D integer tensor \n",
    "\n",
    "# padding X_test text input data\n",
    "test_seq = tokenizer.texts_to_sequences(X_test)\n",
    "test_padseq = pad_sequences(test_seq, maxlen=130)\n",
    "\n"
   ]
  },
  {
   "cell_type": "code",
   "execution_count": 12,
   "id": "df2cd501",
   "metadata": {
    "execution": {
     "iopub.execute_input": "2023-05-26T06:19:15.868846Z",
     "iopub.status.busy": "2023-05-26T06:19:15.868217Z",
     "iopub.status.idle": "2023-05-26T06:19:15.935138Z",
     "shell.execute_reply": "2023-05-26T06:19:15.933509Z"
    },
    "id": "8e8346e0",
    "papermill": {
     "duration": 0.080055,
     "end_time": "2023-05-26T06:19:15.937785",
     "exception": false,
     "start_time": "2023-05-26T06:19:15.857730",
     "status": "completed"
    },
    "tags": []
   },
   "outputs": [
    {
     "name": "stdout",
     "output_type": "stream",
     "text": [
      "Length of word index: 158769\n"
     ]
    }
   ],
   "source": [
    "word_index = tokenizer.word_index\n",
    "max_words = 80000  # total number of words to consider in embedding layer\n",
    "total_words = len(word_index)\n",
    "num_classes = len(final_df['category_merged'].unique())\n",
    "# Convert the labels to categorical\n",
    "maxlen = 130 # max length of sequence \n",
    "y_train = to_categorical(y_train, num_classes=num_classes)\n",
    "y_test = to_categorical(y_test, num_classes=num_classes)\n",
    "# y_train = to_categorical(y_train, dtype =\"uint8\")\n",
    "# y_test = to_categorical(y_test, dtype =\"uint8\")\n",
    "\n",
    "print(\"Length of word index:\", total_words)\n",
    "# print(X_train.shape)"
   ]
  },
  {
   "cell_type": "code",
   "execution_count": 13,
   "id": "4aaae3db",
   "metadata": {
    "execution": {
     "iopub.execute_input": "2023-05-26T06:19:15.957297Z",
     "iopub.status.busy": "2023-05-26T06:19:15.956761Z",
     "iopub.status.idle": "2023-05-26T06:19:15.983431Z",
     "shell.execute_reply": "2023-05-26T06:19:15.982560Z"
    },
    "id": "9acd6fa8",
    "outputId": "96f0f75b-6880-4a2f-ad0d-402b30bccbab",
    "papermill": {
     "duration": 0.039127,
     "end_time": "2023-05-26T06:19:15.985938",
     "exception": false,
     "start_time": "2023-05-26T06:19:15.946811",
     "status": "completed"
    },
    "tags": []
   },
   "outputs": [
    {
     "name": "stdout",
     "output_type": "stream",
     "text": [
      "(167621,)\n",
      "(167621, 27)\n"
     ]
    }
   ],
   "source": [
    "print(np.shape(X_train))\n",
    "print(y_train.shape)\n",
    "from tensorflow.keras.layers import Input\n",
    "input_layer = Input(shape=(maxlen,))\n",
    "# input_layer = Input(shape=(20,))"
   ]
  },
  {
   "cell_type": "code",
   "execution_count": 14,
   "id": "136126e7",
   "metadata": {
    "execution": {
     "iopub.execute_input": "2023-05-26T06:19:16.006557Z",
     "iopub.status.busy": "2023-05-26T06:19:16.006152Z",
     "iopub.status.idle": "2023-05-26T06:19:17.442955Z",
     "shell.execute_reply": "2023-05-26T06:19:17.441435Z"
    },
    "id": "Q0sxFEDyhKz2",
    "outputId": "f27898a8-e42e-45a1-bf02-b323ba6820f2",
    "papermill": {
     "duration": 1.455664,
     "end_time": "2023-05-26T06:19:17.450296",
     "exception": false,
     "start_time": "2023-05-26T06:19:15.994632",
     "status": "completed"
    },
    "tags": []
   },
   "outputs": [
    {
     "name": "stdout",
     "output_type": "stream",
     "text": [
      "Model: \"sequential\"\n",
      "_________________________________________________________________\n",
      " Layer (type)                Output Shape              Param #   \n",
      "=================================================================\n",
      " embedding (Embedding)       (None, 130, 100)          15876900  \n",
      "                                                                 \n",
      " bidirectional (Bidirection  (None, 130, 128)          84480     \n",
      " al)                                                             \n",
      "                                                                 \n",
      " bidirectional_1 (Bidirecti  (None, 130, 128)          98816     \n",
      " onal)                                                           \n",
      "                                                                 \n",
      " conv1d (Conv1D)             (None, 128, 72)           27720     \n",
      "                                                                 \n",
      " max_pooling1d (MaxPooling1  (None, 64, 72)            0         \n",
      " D)                                                              \n",
      "                                                                 \n",
      " simple_rnn (SimpleRNN)      (None, 64, 64)            8768      \n",
      "                                                                 \n",
      " gru (GRU)                   (None, 64)                24960     \n",
      "                                                                 \n",
      " dropout (Dropout)           (None, 64)                0         \n",
      "                                                                 \n",
      " dense (Dense)               (None, 27)                1755      \n",
      "                                                                 \n",
      "=================================================================\n",
      "Total params: 16123399 (61.51 MB)\n",
      "Trainable params: 16123399 (61.51 MB)\n",
      "Non-trainable params: 0 (0.00 Byte)\n",
      "_________________________________________________________________\n"
     ]
    }
   ],
   "source": [
    "model_3 = Sequential()\n",
    "model_3.add(Embedding(total_words, 100, input_length=maxlen))\n",
    "model_3.add(Bidirectional(LSTM(64, dropout=0.1, recurrent_dropout=0.10, activation='tanh', return_sequences=True)))\n",
    "model_3.add(Bidirectional(LSTM(64, dropout=0.2, recurrent_dropout=0.20, activation='tanh', return_sequences=True)))\n",
    "model_3.add(Conv1D(72, 3, activation='relu'))\n",
    "model_3.add(MaxPooling1D(2))\n",
    "model_3.add(SimpleRNN(64, activation='tanh', dropout=0.2, recurrent_dropout=0.20, return_sequences=True))\n",
    "model_3.add(GRU(64, recurrent_dropout=0.20, recurrent_regularizer='l1_l2'))\n",
    "model_3.add(Dropout(0.2))\n",
    "model_3.add(Dense(27, activation='sigmoid'))\n",
    "model_3.summary()"
   ]
  },
  {
   "cell_type": "code",
   "execution_count": 15,
   "id": "a5797e94",
   "metadata": {
    "execution": {
     "iopub.execute_input": "2023-05-26T06:19:17.474999Z",
     "iopub.status.busy": "2023-05-26T06:19:17.474566Z",
     "iopub.status.idle": "2023-05-26T16:51:40.596355Z",
     "shell.execute_reply": "2023-05-26T16:51:40.595367Z"
    },
    "id": "Mh_P8RcMjCEv",
    "outputId": "88f19802-d13e-40c5-b354-628b7d190749",
    "papermill": {
     "duration": 37946.959106,
     "end_time": "2023-05-26T16:51:44.420660",
     "exception": false,
     "start_time": "2023-05-26T06:19:17.461554",
     "status": "completed"
    },
    "tags": []
   },
   "outputs": [
    {
     "name": "stdout",
     "output_type": "stream",
     "text": [
      "Epoch 1/20\n",
      " 408/2096 [====>.........................] - ETA: 39:50 - loss: 3.4850 - accuracy: 0.2544"
     ]
    },
    {
     "ename": "KeyboardInterrupt",
     "evalue": "",
     "output_type": "error",
     "traceback": [
      "\u001b[1;31m---------------------------------------------------------------------------\u001b[0m",
      "\u001b[1;31mKeyboardInterrupt\u001b[0m                         Traceback (most recent call last)",
      "\u001b[1;32md:\\Projects\\News_Classifier\\NEWS-Classifier\\textclassification.ipynb Cell 16\u001b[0m line \u001b[0;36m1\n\u001b[0;32m     <a href='vscode-notebook-cell:/d%3A/Projects/News_Classifier/NEWS-Classifier/textclassification.ipynb#X21sZmlsZQ%3D%3D?line=11'>12</a>\u001b[0m callback_list \u001b[39m=\u001b[39m [checkpointer, earlystopping]\n\u001b[0;32m     <a href='vscode-notebook-cell:/d%3A/Projects/News_Classifier/NEWS-Classifier/textclassification.ipynb#X21sZmlsZQ%3D%3D?line=14'>15</a>\u001b[0m \u001b[39m#fit model to the data\u001b[39;00m\n\u001b[1;32m---> <a href='vscode-notebook-cell:/d%3A/Projects/News_Classifier/NEWS-Classifier/textclassification.ipynb#X21sZmlsZQ%3D%3D?line=15'>16</a>\u001b[0m history3 \u001b[39m=\u001b[39m model_3\u001b[39m.\u001b[39;49mfit(train_padseq, y_train, \n\u001b[0;32m     <a href='vscode-notebook-cell:/d%3A/Projects/News_Classifier/NEWS-Classifier/textclassification.ipynb#X21sZmlsZQ%3D%3D?line=16'>17</a>\u001b[0m                      batch_size\u001b[39m=\u001b[39;49m\u001b[39m64\u001b[39;49m, \n\u001b[0;32m     <a href='vscode-notebook-cell:/d%3A/Projects/News_Classifier/NEWS-Classifier/textclassification.ipynb#X21sZmlsZQ%3D%3D?line=17'>18</a>\u001b[0m                      epochs\u001b[39m=\u001b[39;49m\u001b[39m20\u001b[39;49m, \n\u001b[0;32m     <a href='vscode-notebook-cell:/d%3A/Projects/News_Classifier/NEWS-Classifier/textclassification.ipynb#X21sZmlsZQ%3D%3D?line=18'>19</a>\u001b[0m                      validation_split\u001b[39m=\u001b[39;49m\u001b[39m0.2\u001b[39;49m,\n\u001b[0;32m     <a href='vscode-notebook-cell:/d%3A/Projects/News_Classifier/NEWS-Classifier/textclassification.ipynb#X21sZmlsZQ%3D%3D?line=19'>20</a>\u001b[0m                      shuffle\u001b[39m=\u001b[39;49m\u001b[39mTrue\u001b[39;49;00m\n\u001b[0;32m     <a href='vscode-notebook-cell:/d%3A/Projects/News_Classifier/NEWS-Classifier/textclassification.ipynb#X21sZmlsZQ%3D%3D?line=20'>21</a>\u001b[0m                     )\n\u001b[0;32m     <a href='vscode-notebook-cell:/d%3A/Projects/News_Classifier/NEWS-Classifier/textclassification.ipynb#X21sZmlsZQ%3D%3D?line=22'>23</a>\u001b[0m \u001b[39m# evalute the model\u001b[39;00m\n\u001b[0;32m     <a href='vscode-notebook-cell:/d%3A/Projects/News_Classifier/NEWS-Classifier/textclassification.ipynb#X21sZmlsZQ%3D%3D?line=23'>24</a>\u001b[0m test_loss3, test_acc3 \u001b[39m=\u001b[39m model_3\u001b[39m.\u001b[39mevaluate(test_padseq, y_test, verbose\u001b[39m=\u001b[39m\u001b[39m0\u001b[39m)\n",
      "File \u001b[1;32mc:\\Users\\ASUS\\AppData\\Local\\Programs\\Python\\Python310\\lib\\site-packages\\keras\\src\\utils\\traceback_utils.py:65\u001b[0m, in \u001b[0;36mfilter_traceback.<locals>.error_handler\u001b[1;34m(*args, **kwargs)\u001b[0m\n\u001b[0;32m     63\u001b[0m filtered_tb \u001b[39m=\u001b[39m \u001b[39mNone\u001b[39;00m\n\u001b[0;32m     64\u001b[0m \u001b[39mtry\u001b[39;00m:\n\u001b[1;32m---> 65\u001b[0m     \u001b[39mreturn\u001b[39;00m fn(\u001b[39m*\u001b[39margs, \u001b[39m*\u001b[39m\u001b[39m*\u001b[39mkwargs)\n\u001b[0;32m     66\u001b[0m \u001b[39mexcept\u001b[39;00m \u001b[39mException\u001b[39;00m \u001b[39mas\u001b[39;00m e:\n\u001b[0;32m     67\u001b[0m     filtered_tb \u001b[39m=\u001b[39m _process_traceback_frames(e\u001b[39m.\u001b[39m__traceback__)\n",
      "File \u001b[1;32mc:\\Users\\ASUS\\AppData\\Local\\Programs\\Python\\Python310\\lib\\site-packages\\keras\\src\\engine\\training.py:1742\u001b[0m, in \u001b[0;36mModel.fit\u001b[1;34m(self, x, y, batch_size, epochs, verbose, callbacks, validation_split, validation_data, shuffle, class_weight, sample_weight, initial_epoch, steps_per_epoch, validation_steps, validation_batch_size, validation_freq, max_queue_size, workers, use_multiprocessing)\u001b[0m\n\u001b[0;32m   1734\u001b[0m \u001b[39mwith\u001b[39;00m tf\u001b[39m.\u001b[39mprofiler\u001b[39m.\u001b[39mexperimental\u001b[39m.\u001b[39mTrace(\n\u001b[0;32m   1735\u001b[0m     \u001b[39m\"\u001b[39m\u001b[39mtrain\u001b[39m\u001b[39m\"\u001b[39m,\n\u001b[0;32m   1736\u001b[0m     epoch_num\u001b[39m=\u001b[39mepoch,\n\u001b[1;32m   (...)\u001b[0m\n\u001b[0;32m   1739\u001b[0m     _r\u001b[39m=\u001b[39m\u001b[39m1\u001b[39m,\n\u001b[0;32m   1740\u001b[0m ):\n\u001b[0;32m   1741\u001b[0m     callbacks\u001b[39m.\u001b[39mon_train_batch_begin(step)\n\u001b[1;32m-> 1742\u001b[0m     tmp_logs \u001b[39m=\u001b[39m \u001b[39mself\u001b[39;49m\u001b[39m.\u001b[39;49mtrain_function(iterator)\n\u001b[0;32m   1743\u001b[0m     \u001b[39mif\u001b[39;00m data_handler\u001b[39m.\u001b[39mshould_sync:\n\u001b[0;32m   1744\u001b[0m         context\u001b[39m.\u001b[39masync_wait()\n",
      "File \u001b[1;32mc:\\Users\\ASUS\\AppData\\Local\\Programs\\Python\\Python310\\lib\\site-packages\\tensorflow\\python\\util\\traceback_utils.py:150\u001b[0m, in \u001b[0;36mfilter_traceback.<locals>.error_handler\u001b[1;34m(*args, **kwargs)\u001b[0m\n\u001b[0;32m    148\u001b[0m filtered_tb \u001b[39m=\u001b[39m \u001b[39mNone\u001b[39;00m\n\u001b[0;32m    149\u001b[0m \u001b[39mtry\u001b[39;00m:\n\u001b[1;32m--> 150\u001b[0m   \u001b[39mreturn\u001b[39;00m fn(\u001b[39m*\u001b[39margs, \u001b[39m*\u001b[39m\u001b[39m*\u001b[39mkwargs)\n\u001b[0;32m    151\u001b[0m \u001b[39mexcept\u001b[39;00m \u001b[39mException\u001b[39;00m \u001b[39mas\u001b[39;00m e:\n\u001b[0;32m    152\u001b[0m   filtered_tb \u001b[39m=\u001b[39m _process_traceback_frames(e\u001b[39m.\u001b[39m__traceback__)\n",
      "File \u001b[1;32mc:\\Users\\ASUS\\AppData\\Local\\Programs\\Python\\Python310\\lib\\site-packages\\tensorflow\\python\\eager\\polymorphic_function\\polymorphic_function.py:825\u001b[0m, in \u001b[0;36mFunction.__call__\u001b[1;34m(self, *args, **kwds)\u001b[0m\n\u001b[0;32m    822\u001b[0m compiler \u001b[39m=\u001b[39m \u001b[39m\"\u001b[39m\u001b[39mxla\u001b[39m\u001b[39m\"\u001b[39m \u001b[39mif\u001b[39;00m \u001b[39mself\u001b[39m\u001b[39m.\u001b[39m_jit_compile \u001b[39melse\u001b[39;00m \u001b[39m\"\u001b[39m\u001b[39mnonXla\u001b[39m\u001b[39m\"\u001b[39m\n\u001b[0;32m    824\u001b[0m \u001b[39mwith\u001b[39;00m OptionalXlaContext(\u001b[39mself\u001b[39m\u001b[39m.\u001b[39m_jit_compile):\n\u001b[1;32m--> 825\u001b[0m   result \u001b[39m=\u001b[39m \u001b[39mself\u001b[39m\u001b[39m.\u001b[39m_call(\u001b[39m*\u001b[39margs, \u001b[39m*\u001b[39m\u001b[39m*\u001b[39mkwds)\n\u001b[0;32m    827\u001b[0m new_tracing_count \u001b[39m=\u001b[39m \u001b[39mself\u001b[39m\u001b[39m.\u001b[39mexperimental_get_tracing_count()\n\u001b[0;32m    828\u001b[0m without_tracing \u001b[39m=\u001b[39m (tracing_count \u001b[39m==\u001b[39m new_tracing_count)\n",
      "File \u001b[1;32mc:\\Users\\ASUS\\AppData\\Local\\Programs\\Python\\Python310\\lib\\site-packages\\tensorflow\\python\\eager\\polymorphic_function\\polymorphic_function.py:857\u001b[0m, in \u001b[0;36mFunction._call\u001b[1;34m(self, *args, **kwds)\u001b[0m\n\u001b[0;32m    854\u001b[0m   \u001b[39mself\u001b[39m\u001b[39m.\u001b[39m_lock\u001b[39m.\u001b[39mrelease()\n\u001b[0;32m    855\u001b[0m   \u001b[39m# In this case we have created variables on the first call, so we run the\u001b[39;00m\n\u001b[0;32m    856\u001b[0m   \u001b[39m# defunned version which is guaranteed to never create variables.\u001b[39;00m\n\u001b[1;32m--> 857\u001b[0m   \u001b[39mreturn\u001b[39;00m \u001b[39mself\u001b[39m\u001b[39m.\u001b[39m_no_variable_creation_fn(\u001b[39m*\u001b[39margs, \u001b[39m*\u001b[39m\u001b[39m*\u001b[39mkwds)  \u001b[39m# pylint: disable=not-callable\u001b[39;00m\n\u001b[0;32m    858\u001b[0m \u001b[39melif\u001b[39;00m \u001b[39mself\u001b[39m\u001b[39m.\u001b[39m_variable_creation_fn \u001b[39mis\u001b[39;00m \u001b[39mnot\u001b[39;00m \u001b[39mNone\u001b[39;00m:\n\u001b[0;32m    859\u001b[0m   \u001b[39m# Release the lock early so that multiple threads can perform the call\u001b[39;00m\n\u001b[0;32m    860\u001b[0m   \u001b[39m# in parallel.\u001b[39;00m\n\u001b[0;32m    861\u001b[0m   \u001b[39mself\u001b[39m\u001b[39m.\u001b[39m_lock\u001b[39m.\u001b[39mrelease()\n",
      "File \u001b[1;32mc:\\Users\\ASUS\\AppData\\Local\\Programs\\Python\\Python310\\lib\\site-packages\\tensorflow\\python\\eager\\polymorphic_function\\tracing_compiler.py:148\u001b[0m, in \u001b[0;36mTracingCompiler.__call__\u001b[1;34m(self, *args, **kwargs)\u001b[0m\n\u001b[0;32m    145\u001b[0m \u001b[39mwith\u001b[39;00m \u001b[39mself\u001b[39m\u001b[39m.\u001b[39m_lock:\n\u001b[0;32m    146\u001b[0m   (concrete_function,\n\u001b[0;32m    147\u001b[0m    filtered_flat_args) \u001b[39m=\u001b[39m \u001b[39mself\u001b[39m\u001b[39m.\u001b[39m_maybe_define_function(args, kwargs)\n\u001b[1;32m--> 148\u001b[0m \u001b[39mreturn\u001b[39;00m concrete_function\u001b[39m.\u001b[39;49m_call_flat(\n\u001b[0;32m    149\u001b[0m     filtered_flat_args, captured_inputs\u001b[39m=\u001b[39;49mconcrete_function\u001b[39m.\u001b[39;49mcaptured_inputs)\n",
      "File \u001b[1;32mc:\\Users\\ASUS\\AppData\\Local\\Programs\\Python\\Python310\\lib\\site-packages\\tensorflow\\python\\eager\\polymorphic_function\\monomorphic_function.py:1349\u001b[0m, in \u001b[0;36mConcreteFunction._call_flat\u001b[1;34m(self, args, captured_inputs)\u001b[0m\n\u001b[0;32m   1345\u001b[0m possible_gradient_type \u001b[39m=\u001b[39m gradients_util\u001b[39m.\u001b[39mPossibleTapeGradientTypes(args)\n\u001b[0;32m   1346\u001b[0m \u001b[39mif\u001b[39;00m (possible_gradient_type \u001b[39m==\u001b[39m gradients_util\u001b[39m.\u001b[39mPOSSIBLE_GRADIENT_TYPES_NONE\n\u001b[0;32m   1347\u001b[0m     \u001b[39mand\u001b[39;00m executing_eagerly):\n\u001b[0;32m   1348\u001b[0m   \u001b[39m# No tape is watching; skip to running the function.\u001b[39;00m\n\u001b[1;32m-> 1349\u001b[0m   \u001b[39mreturn\u001b[39;00m \u001b[39mself\u001b[39m\u001b[39m.\u001b[39m_build_call_outputs(\u001b[39mself\u001b[39;49m\u001b[39m.\u001b[39;49m_inference_function(\u001b[39m*\u001b[39;49margs))\n\u001b[0;32m   1350\u001b[0m forward_backward \u001b[39m=\u001b[39m \u001b[39mself\u001b[39m\u001b[39m.\u001b[39m_select_forward_and_backward_functions(\n\u001b[0;32m   1351\u001b[0m     args,\n\u001b[0;32m   1352\u001b[0m     possible_gradient_type,\n\u001b[0;32m   1353\u001b[0m     executing_eagerly)\n\u001b[0;32m   1354\u001b[0m forward_function, args_with_tangents \u001b[39m=\u001b[39m forward_backward\u001b[39m.\u001b[39mforward()\n",
      "File \u001b[1;32mc:\\Users\\ASUS\\AppData\\Local\\Programs\\Python\\Python310\\lib\\site-packages\\tensorflow\\python\\eager\\polymorphic_function\\atomic_function.py:196\u001b[0m, in \u001b[0;36mAtomicFunction.__call__\u001b[1;34m(self, *args)\u001b[0m\n\u001b[0;32m    194\u001b[0m \u001b[39mwith\u001b[39;00m record\u001b[39m.\u001b[39mstop_recording():\n\u001b[0;32m    195\u001b[0m   \u001b[39mif\u001b[39;00m \u001b[39mself\u001b[39m\u001b[39m.\u001b[39m_bound_context\u001b[39m.\u001b[39mexecuting_eagerly():\n\u001b[1;32m--> 196\u001b[0m     outputs \u001b[39m=\u001b[39m \u001b[39mself\u001b[39;49m\u001b[39m.\u001b[39;49m_bound_context\u001b[39m.\u001b[39;49mcall_function(\n\u001b[0;32m    197\u001b[0m         \u001b[39mself\u001b[39;49m\u001b[39m.\u001b[39;49mname,\n\u001b[0;32m    198\u001b[0m         \u001b[39mlist\u001b[39;49m(args),\n\u001b[0;32m    199\u001b[0m         \u001b[39mlen\u001b[39;49m(\u001b[39mself\u001b[39;49m\u001b[39m.\u001b[39;49mfunction_type\u001b[39m.\u001b[39;49mflat_outputs),\n\u001b[0;32m    200\u001b[0m     )\n\u001b[0;32m    201\u001b[0m   \u001b[39melse\u001b[39;00m:\n\u001b[0;32m    202\u001b[0m     outputs \u001b[39m=\u001b[39m make_call_op_in_graph(\u001b[39mself\u001b[39m, \u001b[39mlist\u001b[39m(args))\n",
      "File \u001b[1;32mc:\\Users\\ASUS\\AppData\\Local\\Programs\\Python\\Python310\\lib\\site-packages\\tensorflow\\python\\eager\\context.py:1457\u001b[0m, in \u001b[0;36mContext.call_function\u001b[1;34m(self, name, tensor_inputs, num_outputs)\u001b[0m\n\u001b[0;32m   1455\u001b[0m cancellation_context \u001b[39m=\u001b[39m cancellation\u001b[39m.\u001b[39mcontext()\n\u001b[0;32m   1456\u001b[0m \u001b[39mif\u001b[39;00m cancellation_context \u001b[39mis\u001b[39;00m \u001b[39mNone\u001b[39;00m:\n\u001b[1;32m-> 1457\u001b[0m   outputs \u001b[39m=\u001b[39m execute\u001b[39m.\u001b[39;49mexecute(\n\u001b[0;32m   1458\u001b[0m       name\u001b[39m.\u001b[39;49mdecode(\u001b[39m\"\u001b[39;49m\u001b[39mutf-8\u001b[39;49m\u001b[39m\"\u001b[39;49m),\n\u001b[0;32m   1459\u001b[0m       num_outputs\u001b[39m=\u001b[39;49mnum_outputs,\n\u001b[0;32m   1460\u001b[0m       inputs\u001b[39m=\u001b[39;49mtensor_inputs,\n\u001b[0;32m   1461\u001b[0m       attrs\u001b[39m=\u001b[39;49mattrs,\n\u001b[0;32m   1462\u001b[0m       ctx\u001b[39m=\u001b[39;49m\u001b[39mself\u001b[39;49m,\n\u001b[0;32m   1463\u001b[0m   )\n\u001b[0;32m   1464\u001b[0m \u001b[39melse\u001b[39;00m:\n\u001b[0;32m   1465\u001b[0m   outputs \u001b[39m=\u001b[39m execute\u001b[39m.\u001b[39mexecute_with_cancellation(\n\u001b[0;32m   1466\u001b[0m       name\u001b[39m.\u001b[39mdecode(\u001b[39m\"\u001b[39m\u001b[39mutf-8\u001b[39m\u001b[39m\"\u001b[39m),\n\u001b[0;32m   1467\u001b[0m       num_outputs\u001b[39m=\u001b[39mnum_outputs,\n\u001b[1;32m   (...)\u001b[0m\n\u001b[0;32m   1471\u001b[0m       cancellation_manager\u001b[39m=\u001b[39mcancellation_context,\n\u001b[0;32m   1472\u001b[0m   )\n",
      "File \u001b[1;32mc:\\Users\\ASUS\\AppData\\Local\\Programs\\Python\\Python310\\lib\\site-packages\\tensorflow\\python\\eager\\execute.py:53\u001b[0m, in \u001b[0;36mquick_execute\u001b[1;34m(op_name, num_outputs, inputs, attrs, ctx, name)\u001b[0m\n\u001b[0;32m     51\u001b[0m \u001b[39mtry\u001b[39;00m:\n\u001b[0;32m     52\u001b[0m   ctx\u001b[39m.\u001b[39mensure_initialized()\n\u001b[1;32m---> 53\u001b[0m   tensors \u001b[39m=\u001b[39m pywrap_tfe\u001b[39m.\u001b[39;49mTFE_Py_Execute(ctx\u001b[39m.\u001b[39;49m_handle, device_name, op_name,\n\u001b[0;32m     54\u001b[0m                                       inputs, attrs, num_outputs)\n\u001b[0;32m     55\u001b[0m \u001b[39mexcept\u001b[39;00m core\u001b[39m.\u001b[39m_NotOkStatusException \u001b[39mas\u001b[39;00m e:\n\u001b[0;32m     56\u001b[0m   \u001b[39mif\u001b[39;00m name \u001b[39mis\u001b[39;00m \u001b[39mnot\u001b[39;00m \u001b[39mNone\u001b[39;00m:\n",
      "\u001b[1;31mKeyboardInterrupt\u001b[0m: "
     ]
    }
   ],
   "source": [
    "model_3.compile(optimizer='rmsprop',\n",
    "              loss='categorical_crossentropy',\n",
    "              metrics=['accuracy']\n",
    "              )\n",
    "# SETUP A EARLY STOPPING CALL and model check point API\n",
    "earlystopping = keras.callbacks.EarlyStopping(monitor='accuracy',\n",
    "                                              patience=5,\n",
    "                                              verbose=1,\n",
    "                                              mode='min'\n",
    "                                              )\n",
    "checkpointer = ModelCheckpoint(filepath='bestvalue1',moniter='val_loss', verbose=0, save_best_only=True)\n",
    "callback_list = [checkpointer, earlystopping]\n",
    "\n",
    "\n",
    "#fit model to the data\n",
    "history3 = model_3.fit(train_padseq, y_train, \n",
    "                     batch_size=64, \n",
    "                     epochs=20, \n",
    "                     validation_split=0.2,\n",
    "                     shuffle=True\n",
    "                    )\n",
    "\n",
    "# evalute the model\n",
    "test_loss3, test_acc3 = model_3.evaluate(test_padseq, y_test, verbose=0)\n",
    "print(\"test loss and accuracy:\", test_loss3, test_acc3)"
   ]
  },
  {
   "cell_type": "code",
   "execution_count": null,
   "id": "4cb21bb8",
   "metadata": {
    "execution": {
     "iopub.execute_input": "2023-05-26T16:51:52.468541Z",
     "iopub.status.busy": "2023-05-26T16:51:52.468092Z",
     "iopub.status.idle": "2023-05-26T16:51:52.888528Z",
     "shell.execute_reply": "2023-05-26T16:51:52.887318Z"
    },
    "id": "ezB9G4WPjcIU",
    "papermill": {
     "duration": 4.450433,
     "end_time": "2023-05-26T16:51:52.891603",
     "exception": false,
     "start_time": "2023-05-26T16:51:48.441170",
     "status": "completed"
    },
    "tags": []
   },
   "outputs": [],
   "source": [
    "model_3.save(\"the_model.h5\")"
   ]
  },
  {
   "cell_type": "code",
   "execution_count": null,
   "id": "2b905894",
   "metadata": {
    "execution": {
     "iopub.execute_input": "2023-05-26T16:52:00.715043Z",
     "iopub.status.busy": "2023-05-26T16:52:00.714609Z",
     "iopub.status.idle": "2023-05-26T16:52:00.901474Z",
     "shell.execute_reply": "2023-05-26T16:52:00.900282Z"
    },
    "papermill": {
     "duration": 4.221757,
     "end_time": "2023-05-26T16:52:00.904434",
     "exception": false,
     "start_time": "2023-05-26T16:51:56.682677",
     "status": "completed"
    },
    "tags": []
   },
   "outputs": [],
   "source": [
    "model_3.save_weights(\"the_weight.h5\")"
   ]
  },
  {
   "cell_type": "code",
   "execution_count": null,
   "id": "efc0dad1",
   "metadata": {
    "execution": {
     "iopub.execute_input": "2023-05-26T16:52:08.803750Z",
     "iopub.status.busy": "2023-05-26T16:52:08.803351Z",
     "iopub.status.idle": "2023-05-26T16:52:09.121251Z",
     "shell.execute_reply": "2023-05-26T16:52:09.119981Z"
    },
    "papermill": {
     "duration": 4.158305,
     "end_time": "2023-05-26T16:52:09.124422",
     "exception": false,
     "start_time": "2023-05-26T16:52:04.966117",
     "status": "completed"
    },
    "tags": []
   },
   "outputs": [],
   "source": [
    "import pickle\n",
    "pickle.dump(encoder, open('encoder_kaggle.pkl', 'wb'))\n",
    "pickle.dump(tokenizer, open('tokenizer_kaggle.pkl', 'wb'))"
   ]
  }
 ],
 "metadata": {
  "kernelspec": {
   "display_name": "Python 3",
   "language": "python",
   "name": "python3"
  },
  "language_info": {
   "codemirror_mode": {
    "name": "ipython",
    "version": 3
   },
   "file_extension": ".py",
   "mimetype": "text/x-python",
   "name": "python",
   "nbconvert_exporter": "python",
   "pygments_lexer": "ipython3",
   "version": "3.10.9"
  },
  "papermill": {
   "default_parameters": {},
   "duration": 38054.77176,
   "end_time": "2023-05-26T16:52:16.036414",
   "environment_variables": {},
   "exception": null,
   "input_path": "__notebook__.ipynb",
   "output_path": "__notebook__.ipynb",
   "parameters": {},
   "start_time": "2023-05-26T06:18:01.264654",
   "version": "2.4.0"
  }
 },
 "nbformat": 4,
 "nbformat_minor": 5
}
